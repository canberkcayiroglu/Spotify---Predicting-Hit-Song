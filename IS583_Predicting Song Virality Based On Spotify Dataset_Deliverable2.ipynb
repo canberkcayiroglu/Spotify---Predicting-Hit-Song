{
 "cells": [
  {
   "cell_type": "code",
   "execution_count": 1,
   "metadata": {},
   "outputs": [],
   "source": [
    "import warnings\n",
    "warnings.filterwarnings(\"ignore\")"
   ]
  },
  {
   "cell_type": "code",
   "execution_count": 2,
   "metadata": {},
   "outputs": [],
   "source": [
    "import pandas as pd\n",
    "import numpy as np\n",
    "import seaborn as sb\n",
    "import matplotlib.pyplot as plt\n",
    "pd.options.display.float_format = '{:,.2f}'.format"
   ]
  },
  {
   "cell_type": "markdown",
   "metadata": {},
   "source": [
    "# PREPROCESSING - EXPLANATORY DATA ANALYSIS"
   ]
  },
  {
   "cell_type": "code",
   "execution_count": 3,
   "metadata": {},
   "outputs": [
    {
     "data": {
      "text/plain": [
       "(5872, 19)"
      ]
     },
     "execution_count": 3,
     "metadata": {},
     "output_type": "execute_result"
    }
   ],
   "source": [
    "music = pd.read_csv('dataset-of-00s.csv')\n",
    "music.shape"
   ]
  },
  {
   "cell_type": "code",
   "execution_count": 4,
   "metadata": {},
   "outputs": [
    {
     "data": {
      "text/html": [
       "<div>\n",
       "<style scoped>\n",
       "    .dataframe tbody tr th:only-of-type {\n",
       "        vertical-align: middle;\n",
       "    }\n",
       "\n",
       "    .dataframe tbody tr th {\n",
       "        vertical-align: top;\n",
       "    }\n",
       "\n",
       "    .dataframe thead th {\n",
       "        text-align: right;\n",
       "    }\n",
       "</style>\n",
       "<table border=\"1\" class=\"dataframe\">\n",
       "  <thead>\n",
       "    <tr style=\"text-align: right;\">\n",
       "      <th></th>\n",
       "      <th>track</th>\n",
       "      <th>artist</th>\n",
       "      <th>uri</th>\n",
       "      <th>danceability</th>\n",
       "      <th>energy</th>\n",
       "      <th>key</th>\n",
       "      <th>loudness</th>\n",
       "      <th>mode</th>\n",
       "      <th>speechiness</th>\n",
       "      <th>acousticness</th>\n",
       "      <th>instrumentalness</th>\n",
       "      <th>liveness</th>\n",
       "      <th>valence</th>\n",
       "      <th>tempo</th>\n",
       "      <th>duration_ms</th>\n",
       "      <th>time_signature</th>\n",
       "      <th>chorus_hit</th>\n",
       "      <th>sections</th>\n",
       "      <th>target</th>\n",
       "    </tr>\n",
       "  </thead>\n",
       "  <tbody>\n",
       "    <tr>\n",
       "      <th>0</th>\n",
       "      <td>Lucky Man</td>\n",
       "      <td>Montgomery Gentry</td>\n",
       "      <td>spotify:track:4GiXBCUF7H6YfNQsnBRIzl</td>\n",
       "      <td>0.58</td>\n",
       "      <td>0.47</td>\n",
       "      <td>4</td>\n",
       "      <td>-7.27</td>\n",
       "      <td>1</td>\n",
       "      <td>0.03</td>\n",
       "      <td>0.37</td>\n",
       "      <td>0.00</td>\n",
       "      <td>0.16</td>\n",
       "      <td>0.53</td>\n",
       "      <td>133.06</td>\n",
       "      <td>196707</td>\n",
       "      <td>4</td>\n",
       "      <td>30.88</td>\n",
       "      <td>13</td>\n",
       "      <td>1</td>\n",
       "    </tr>\n",
       "    <tr>\n",
       "      <th>1</th>\n",
       "      <td>On The Hotline</td>\n",
       "      <td>Pretty Ricky</td>\n",
       "      <td>spotify:track:1zyqZONW985Cs4osz9wlsu</td>\n",
       "      <td>0.70</td>\n",
       "      <td>0.85</td>\n",
       "      <td>10</td>\n",
       "      <td>-5.48</td>\n",
       "      <td>0</td>\n",
       "      <td>0.18</td>\n",
       "      <td>0.02</td>\n",
       "      <td>0.00</td>\n",
       "      <td>0.15</td>\n",
       "      <td>0.69</td>\n",
       "      <td>92.99</td>\n",
       "      <td>242587</td>\n",
       "      <td>4</td>\n",
       "      <td>41.51</td>\n",
       "      <td>10</td>\n",
       "      <td>1</td>\n",
       "    </tr>\n",
       "    <tr>\n",
       "      <th>2</th>\n",
       "      <td>Clouds Of Dementia</td>\n",
       "      <td>Candlemass</td>\n",
       "      <td>spotify:track:6cHZf7RbxXCKwEkgAZT4mY</td>\n",
       "      <td>0.16</td>\n",
       "      <td>0.84</td>\n",
       "      <td>9</td>\n",
       "      <td>-3.01</td>\n",
       "      <td>1</td>\n",
       "      <td>0.05</td>\n",
       "      <td>0.00</td>\n",
       "      <td>0.00</td>\n",
       "      <td>0.17</td>\n",
       "      <td>0.30</td>\n",
       "      <td>86.96</td>\n",
       "      <td>338893</td>\n",
       "      <td>4</td>\n",
       "      <td>65.33</td>\n",
       "      <td>13</td>\n",
       "      <td>0</td>\n",
       "    </tr>\n",
       "    <tr>\n",
       "      <th>3</th>\n",
       "      <td>Heavy Metal, Raise Hell!</td>\n",
       "      <td>Zwartketterij</td>\n",
       "      <td>spotify:track:2IjBPp2vMeX7LggzRN3iSX</td>\n",
       "      <td>0.19</td>\n",
       "      <td>0.99</td>\n",
       "      <td>4</td>\n",
       "      <td>-3.75</td>\n",
       "      <td>1</td>\n",
       "      <td>0.17</td>\n",
       "      <td>0.00</td>\n",
       "      <td>0.08</td>\n",
       "      <td>0.19</td>\n",
       "      <td>0.33</td>\n",
       "      <td>148.44</td>\n",
       "      <td>255667</td>\n",
       "      <td>4</td>\n",
       "      <td>58.60</td>\n",
       "      <td>9</td>\n",
       "      <td>0</td>\n",
       "    </tr>\n",
       "    <tr>\n",
       "      <th>4</th>\n",
       "      <td>I Got A Feelin'</td>\n",
       "      <td>Billy Currington</td>\n",
       "      <td>spotify:track:1tF370eYXUcWwkIvaq3IGz</td>\n",
       "      <td>0.63</td>\n",
       "      <td>0.76</td>\n",
       "      <td>2</td>\n",
       "      <td>-4.35</td>\n",
       "      <td>1</td>\n",
       "      <td>0.03</td>\n",
       "      <td>0.36</td>\n",
       "      <td>0.00</td>\n",
       "      <td>0.12</td>\n",
       "      <td>0.63</td>\n",
       "      <td>112.10</td>\n",
       "      <td>193760</td>\n",
       "      <td>4</td>\n",
       "      <td>22.62</td>\n",
       "      <td>10</td>\n",
       "      <td>1</td>\n",
       "    </tr>\n",
       "    <tr>\n",
       "      <th>5</th>\n",
       "      <td>Dantzig Station</td>\n",
       "      <td>State Of Art</td>\n",
       "      <td>spotify:track:5Z3nrC0JbJmXaOGiXTuNFk</td>\n",
       "      <td>0.73</td>\n",
       "      <td>0.84</td>\n",
       "      <td>11</td>\n",
       "      <td>-7.22</td>\n",
       "      <td>0</td>\n",
       "      <td>0.10</td>\n",
       "      <td>0.37</td>\n",
       "      <td>0.27</td>\n",
       "      <td>0.14</td>\n",
       "      <td>0.97</td>\n",
       "      <td>135.35</td>\n",
       "      <td>192720</td>\n",
       "      <td>4</td>\n",
       "      <td>28.29</td>\n",
       "      <td>10</td>\n",
       "      <td>0</td>\n",
       "    </tr>\n",
       "    <tr>\n",
       "      <th>6</th>\n",
       "      <td>Divorced</td>\n",
       "      <td>Blacklisted</td>\n",
       "      <td>spotify:track:0iAdSLiQBIizTAiLUP7p5E</td>\n",
       "      <td>0.36</td>\n",
       "      <td>0.92</td>\n",
       "      <td>1</td>\n",
       "      <td>-2.64</td>\n",
       "      <td>1</td>\n",
       "      <td>0.07</td>\n",
       "      <td>0.00</td>\n",
       "      <td>0.00</td>\n",
       "      <td>0.32</td>\n",
       "      <td>0.29</td>\n",
       "      <td>77.25</td>\n",
       "      <td>89427</td>\n",
       "      <td>4</td>\n",
       "      <td>45.77</td>\n",
       "      <td>4</td>\n",
       "      <td>0</td>\n",
       "    </tr>\n",
       "    <tr>\n",
       "      <th>7</th>\n",
       "      <td>Where I Come From</td>\n",
       "      <td>Alan Jackson</td>\n",
       "      <td>spotify:track:6ej1QJ8eIYmhsyTlvgDajy</td>\n",
       "      <td>0.73</td>\n",
       "      <td>0.63</td>\n",
       "      <td>11</td>\n",
       "      <td>-8.14</td>\n",
       "      <td>0</td>\n",
       "      <td>0.03</td>\n",
       "      <td>0.22</td>\n",
       "      <td>0.00</td>\n",
       "      <td>0.19</td>\n",
       "      <td>0.75</td>\n",
       "      <td>124.71</td>\n",
       "      <td>239240</td>\n",
       "      <td>4</td>\n",
       "      <td>35.60</td>\n",
       "      <td>10</td>\n",
       "      <td>1</td>\n",
       "    </tr>\n",
       "    <tr>\n",
       "      <th>8</th>\n",
       "      <td>Nothin' To Die For</td>\n",
       "      <td>Tim McGraw</td>\n",
       "      <td>spotify:track:3lRSz6HujrSy9b3LXg2Kq9</td>\n",
       "      <td>0.48</td>\n",
       "      <td>0.79</td>\n",
       "      <td>10</td>\n",
       "      <td>-5.65</td>\n",
       "      <td>1</td>\n",
       "      <td>0.03</td>\n",
       "      <td>0.05</td>\n",
       "      <td>0.00</td>\n",
       "      <td>0.08</td>\n",
       "      <td>0.39</td>\n",
       "      <td>153.10</td>\n",
       "      <td>253640</td>\n",
       "      <td>4</td>\n",
       "      <td>19.66</td>\n",
       "      <td>11</td>\n",
       "      <td>1</td>\n",
       "    </tr>\n",
       "    <tr>\n",
       "      <th>9</th>\n",
       "      <td>I Want to Know Your Plans</td>\n",
       "      <td>Say Anything</td>\n",
       "      <td>spotify:track:3pjnCLIHbRczUjenWOEo56</td>\n",
       "      <td>0.65</td>\n",
       "      <td>0.32</td>\n",
       "      <td>7</td>\n",
       "      <td>-9.68</td>\n",
       "      <td>1</td>\n",
       "      <td>0.04</td>\n",
       "      <td>0.35</td>\n",
       "      <td>0.00</td>\n",
       "      <td>0.12</td>\n",
       "      <td>0.34</td>\n",
       "      <td>124.21</td>\n",
       "      <td>314286</td>\n",
       "      <td>3</td>\n",
       "      <td>32.66</td>\n",
       "      <td>16</td>\n",
       "      <td>0</td>\n",
       "    </tr>\n",
       "    <tr>\n",
       "      <th>10</th>\n",
       "      <td>F.U.R.B. (F U Right Back)</td>\n",
       "      <td>Frankee</td>\n",
       "      <td>spotify:track:7jElrCgQJBcVLsbMRKni2t</td>\n",
       "      <td>0.79</td>\n",
       "      <td>0.63</td>\n",
       "      <td>8</td>\n",
       "      <td>-3.49</td>\n",
       "      <td>1</td>\n",
       "      <td>0.14</td>\n",
       "      <td>0.10</td>\n",
       "      <td>0.00</td>\n",
       "      <td>0.39</td>\n",
       "      <td>0.61</td>\n",
       "      <td>141.03</td>\n",
       "      <td>198173</td>\n",
       "      <td>4</td>\n",
       "      <td>18.09</td>\n",
       "      <td>9</td>\n",
       "      <td>1</td>\n",
       "    </tr>\n",
       "    <tr>\n",
       "      <th>11</th>\n",
       "      <td>Amarillo Sky</td>\n",
       "      <td>Jason Aldean</td>\n",
       "      <td>spotify:track:0axUHkhMMY0YSC1jFBVWqv</td>\n",
       "      <td>0.49</td>\n",
       "      <td>0.78</td>\n",
       "      <td>2</td>\n",
       "      <td>-3.89</td>\n",
       "      <td>1</td>\n",
       "      <td>0.04</td>\n",
       "      <td>0.31</td>\n",
       "      <td>0.00</td>\n",
       "      <td>0.15</td>\n",
       "      <td>0.43</td>\n",
       "      <td>154.99</td>\n",
       "      <td>202547</td>\n",
       "      <td>4</td>\n",
       "      <td>37.87</td>\n",
       "      <td>9</td>\n",
       "      <td>1</td>\n",
       "    </tr>\n",
       "    <tr>\n",
       "      <th>12</th>\n",
       "      <td>Gin And Juice</td>\n",
       "      <td>Hot Rod Circuit</td>\n",
       "      <td>spotify:track:1xthH0Ze4FYo2y99QuJUUj</td>\n",
       "      <td>0.46</td>\n",
       "      <td>0.74</td>\n",
       "      <td>1</td>\n",
       "      <td>-6.21</td>\n",
       "      <td>1</td>\n",
       "      <td>0.03</td>\n",
       "      <td>0.00</td>\n",
       "      <td>0.00</td>\n",
       "      <td>0.20</td>\n",
       "      <td>0.21</td>\n",
       "      <td>94.03</td>\n",
       "      <td>224053</td>\n",
       "      <td>4</td>\n",
       "      <td>62.78</td>\n",
       "      <td>9</td>\n",
       "      <td>0</td>\n",
       "    </tr>\n",
       "    <tr>\n",
       "      <th>13</th>\n",
       "      <td>Six-Pack Summer</td>\n",
       "      <td>Phil Vassar</td>\n",
       "      <td>spotify:track:23qDMWnwf8p0pr5slljB6i</td>\n",
       "      <td>0.72</td>\n",
       "      <td>0.73</td>\n",
       "      <td>0</td>\n",
       "      <td>-6.66</td>\n",
       "      <td>1</td>\n",
       "      <td>0.02</td>\n",
       "      <td>0.51</td>\n",
       "      <td>0.00</td>\n",
       "      <td>0.17</td>\n",
       "      <td>0.84</td>\n",
       "      <td>100.31</td>\n",
       "      <td>219827</td>\n",
       "      <td>4</td>\n",
       "      <td>27.07</td>\n",
       "      <td>8</td>\n",
       "      <td>1</td>\n",
       "    </tr>\n",
       "    <tr>\n",
       "      <th>14</th>\n",
       "      <td>Hatho Pai Kariya Na Kar</td>\n",
       "      <td>Kartar Ramla</td>\n",
       "      <td>spotify:track:7KA8tQVcGqCHHdGwSCRi6v</td>\n",
       "      <td>0.50</td>\n",
       "      <td>0.42</td>\n",
       "      <td>2</td>\n",
       "      <td>-14.06</td>\n",
       "      <td>0</td>\n",
       "      <td>0.19</td>\n",
       "      <td>0.98</td>\n",
       "      <td>0.84</td>\n",
       "      <td>0.15</td>\n",
       "      <td>0.80</td>\n",
       "      <td>92.19</td>\n",
       "      <td>232719</td>\n",
       "      <td>4</td>\n",
       "      <td>33.36</td>\n",
       "      <td>15</td>\n",
       "      <td>0</td>\n",
       "    </tr>\n",
       "    <tr>\n",
       "      <th>15</th>\n",
       "      <td>Serious Hardcore - Original Mix</td>\n",
       "      <td>Ham</td>\n",
       "      <td>spotify:track:6mGnxmegYYJA2TkhXCbOkb</td>\n",
       "      <td>0.51</td>\n",
       "      <td>0.94</td>\n",
       "      <td>11</td>\n",
       "      <td>-6.90</td>\n",
       "      <td>1</td>\n",
       "      <td>0.06</td>\n",
       "      <td>0.00</td>\n",
       "      <td>0.88</td>\n",
       "      <td>0.08</td>\n",
       "      <td>0.16</td>\n",
       "      <td>169.96</td>\n",
       "      <td>460080</td>\n",
       "      <td>4</td>\n",
       "      <td>34.79</td>\n",
       "      <td>12</td>\n",
       "      <td>0</td>\n",
       "    </tr>\n",
       "    <tr>\n",
       "      <th>16</th>\n",
       "      <td>Daddy Won't Sell The Farm</td>\n",
       "      <td>Montgomery Gentry</td>\n",
       "      <td>spotify:track:2Wt173KM9i97KSB52qCuqj</td>\n",
       "      <td>0.71</td>\n",
       "      <td>0.73</td>\n",
       "      <td>7</td>\n",
       "      <td>-7.04</td>\n",
       "      <td>1</td>\n",
       "      <td>0.03</td>\n",
       "      <td>0.01</td>\n",
       "      <td>0.00</td>\n",
       "      <td>0.06</td>\n",
       "      <td>0.70</td>\n",
       "      <td>119.88</td>\n",
       "      <td>258640</td>\n",
       "      <td>4</td>\n",
       "      <td>33.82</td>\n",
       "      <td>15</td>\n",
       "      <td>1</td>\n",
       "    </tr>\n",
       "    <tr>\n",
       "      <th>17</th>\n",
       "      <td>Move Along</td>\n",
       "      <td>The All-American Rejects</td>\n",
       "      <td>spotify:track:2l57cfmCnOkwNX1tky02n1</td>\n",
       "      <td>0.52</td>\n",
       "      <td>0.92</td>\n",
       "      <td>3</td>\n",
       "      <td>-3.86</td>\n",
       "      <td>1</td>\n",
       "      <td>0.05</td>\n",
       "      <td>0.00</td>\n",
       "      <td>0.00</td>\n",
       "      <td>0.29</td>\n",
       "      <td>0.65</td>\n",
       "      <td>109.86</td>\n",
       "      <td>238880</td>\n",
       "      <td>4</td>\n",
       "      <td>19.81</td>\n",
       "      <td>10</td>\n",
       "      <td>1</td>\n",
       "    </tr>\n",
       "    <tr>\n",
       "      <th>18</th>\n",
       "      <td>Era De Maggio</td>\n",
       "      <td>Tito Schipa</td>\n",
       "      <td>spotify:track:1YJ7qQEFIkh2r8VEb5X8lp</td>\n",
       "      <td>0.40</td>\n",
       "      <td>0.25</td>\n",
       "      <td>1</td>\n",
       "      <td>-10.03</td>\n",
       "      <td>1</td>\n",
       "      <td>0.05</td>\n",
       "      <td>0.98</td>\n",
       "      <td>0.00</td>\n",
       "      <td>0.18</td>\n",
       "      <td>0.32</td>\n",
       "      <td>85.17</td>\n",
       "      <td>207888</td>\n",
       "      <td>3</td>\n",
       "      <td>34.50</td>\n",
       "      <td>10</td>\n",
       "      <td>0</td>\n",
       "    </tr>\n",
       "    <tr>\n",
       "      <th>19</th>\n",
       "      <td>Apply Some Pressure</td>\n",
       "      <td>Maximo Park</td>\n",
       "      <td>spotify:track:19503qDaxgCdPL2BhJngij</td>\n",
       "      <td>0.38</td>\n",
       "      <td>0.95</td>\n",
       "      <td>9</td>\n",
       "      <td>-3.63</td>\n",
       "      <td>1</td>\n",
       "      <td>0.14</td>\n",
       "      <td>0.00</td>\n",
       "      <td>0.00</td>\n",
       "      <td>0.09</td>\n",
       "      <td>0.51</td>\n",
       "      <td>167.81</td>\n",
       "      <td>200347</td>\n",
       "      <td>4</td>\n",
       "      <td>20.59</td>\n",
       "      <td>12</td>\n",
       "      <td>0</td>\n",
       "    </tr>\n",
       "  </tbody>\n",
       "</table>\n",
       "</div>"
      ],
      "text/plain": [
       "                              track                    artist  \\\n",
       "0                         Lucky Man         Montgomery Gentry   \n",
       "1                    On The Hotline              Pretty Ricky   \n",
       "2                Clouds Of Dementia                Candlemass   \n",
       "3          Heavy Metal, Raise Hell!             Zwartketterij   \n",
       "4                   I Got A Feelin'          Billy Currington   \n",
       "5                   Dantzig Station              State Of Art   \n",
       "6                          Divorced               Blacklisted   \n",
       "7                 Where I Come From              Alan Jackson   \n",
       "8                Nothin' To Die For                Tim McGraw   \n",
       "9         I Want to Know Your Plans              Say Anything   \n",
       "10        F.U.R.B. (F U Right Back)                   Frankee   \n",
       "11                     Amarillo Sky              Jason Aldean   \n",
       "12                    Gin And Juice           Hot Rod Circuit   \n",
       "13                  Six-Pack Summer               Phil Vassar   \n",
       "14          Hatho Pai Kariya Na Kar              Kartar Ramla   \n",
       "15  Serious Hardcore - Original Mix                       Ham   \n",
       "16        Daddy Won't Sell The Farm         Montgomery Gentry   \n",
       "17                       Move Along  The All-American Rejects   \n",
       "18                    Era De Maggio               Tito Schipa   \n",
       "19              Apply Some Pressure               Maximo Park   \n",
       "\n",
       "                                     uri  danceability  energy  key  loudness  \\\n",
       "0   spotify:track:4GiXBCUF7H6YfNQsnBRIzl          0.58    0.47    4     -7.27   \n",
       "1   spotify:track:1zyqZONW985Cs4osz9wlsu          0.70    0.85   10     -5.48   \n",
       "2   spotify:track:6cHZf7RbxXCKwEkgAZT4mY          0.16    0.84    9     -3.01   \n",
       "3   spotify:track:2IjBPp2vMeX7LggzRN3iSX          0.19    0.99    4     -3.75   \n",
       "4   spotify:track:1tF370eYXUcWwkIvaq3IGz          0.63    0.76    2     -4.35   \n",
       "5   spotify:track:5Z3nrC0JbJmXaOGiXTuNFk          0.73    0.84   11     -7.22   \n",
       "6   spotify:track:0iAdSLiQBIizTAiLUP7p5E          0.36    0.92    1     -2.64   \n",
       "7   spotify:track:6ej1QJ8eIYmhsyTlvgDajy          0.73    0.63   11     -8.14   \n",
       "8   spotify:track:3lRSz6HujrSy9b3LXg2Kq9          0.48    0.79   10     -5.65   \n",
       "9   spotify:track:3pjnCLIHbRczUjenWOEo56          0.65    0.32    7     -9.68   \n",
       "10  spotify:track:7jElrCgQJBcVLsbMRKni2t          0.79    0.63    8     -3.49   \n",
       "11  spotify:track:0axUHkhMMY0YSC1jFBVWqv          0.49    0.78    2     -3.89   \n",
       "12  spotify:track:1xthH0Ze4FYo2y99QuJUUj          0.46    0.74    1     -6.21   \n",
       "13  spotify:track:23qDMWnwf8p0pr5slljB6i          0.72    0.73    0     -6.66   \n",
       "14  spotify:track:7KA8tQVcGqCHHdGwSCRi6v          0.50    0.42    2    -14.06   \n",
       "15  spotify:track:6mGnxmegYYJA2TkhXCbOkb          0.51    0.94   11     -6.90   \n",
       "16  spotify:track:2Wt173KM9i97KSB52qCuqj          0.71    0.73    7     -7.04   \n",
       "17  spotify:track:2l57cfmCnOkwNX1tky02n1          0.52    0.92    3     -3.86   \n",
       "18  spotify:track:1YJ7qQEFIkh2r8VEb5X8lp          0.40    0.25    1    -10.03   \n",
       "19  spotify:track:19503qDaxgCdPL2BhJngij          0.38    0.95    9     -3.63   \n",
       "\n",
       "    mode  speechiness  acousticness  instrumentalness  liveness  valence  \\\n",
       "0      1         0.03          0.37              0.00      0.16     0.53   \n",
       "1      0         0.18          0.02              0.00      0.15     0.69   \n",
       "2      1         0.05          0.00              0.00      0.17     0.30   \n",
       "3      1         0.17          0.00              0.08      0.19     0.33   \n",
       "4      1         0.03          0.36              0.00      0.12     0.63   \n",
       "5      0         0.10          0.37              0.27      0.14     0.97   \n",
       "6      1         0.07          0.00              0.00      0.32     0.29   \n",
       "7      0         0.03          0.22              0.00      0.19     0.75   \n",
       "8      1         0.03          0.05              0.00      0.08     0.39   \n",
       "9      1         0.04          0.35              0.00      0.12     0.34   \n",
       "10     1         0.14          0.10              0.00      0.39     0.61   \n",
       "11     1         0.04          0.31              0.00      0.15     0.43   \n",
       "12     1         0.03          0.00              0.00      0.20     0.21   \n",
       "13     1         0.02          0.51              0.00      0.17     0.84   \n",
       "14     0         0.19          0.98              0.84      0.15     0.80   \n",
       "15     1         0.06          0.00              0.88      0.08     0.16   \n",
       "16     1         0.03          0.01              0.00      0.06     0.70   \n",
       "17     1         0.05          0.00              0.00      0.29     0.65   \n",
       "18     1         0.05          0.98              0.00      0.18     0.32   \n",
       "19     1         0.14          0.00              0.00      0.09     0.51   \n",
       "\n",
       "    tempo  duration_ms  time_signature  chorus_hit  sections  target  \n",
       "0  133.06       196707               4       30.88        13       1  \n",
       "1   92.99       242587               4       41.51        10       1  \n",
       "2   86.96       338893               4       65.33        13       0  \n",
       "3  148.44       255667               4       58.60         9       0  \n",
       "4  112.10       193760               4       22.62        10       1  \n",
       "5  135.35       192720               4       28.29        10       0  \n",
       "6   77.25        89427               4       45.77         4       0  \n",
       "7  124.71       239240               4       35.60        10       1  \n",
       "8  153.10       253640               4       19.66        11       1  \n",
       "9  124.21       314286               3       32.66        16       0  \n",
       "10 141.03       198173               4       18.09         9       1  \n",
       "11 154.99       202547               4       37.87         9       1  \n",
       "12  94.03       224053               4       62.78         9       0  \n",
       "13 100.31       219827               4       27.07         8       1  \n",
       "14  92.19       232719               4       33.36        15       0  \n",
       "15 169.96       460080               4       34.79        12       0  \n",
       "16 119.88       258640               4       33.82        15       1  \n",
       "17 109.86       238880               4       19.81        10       1  \n",
       "18  85.17       207888               3       34.50        10       0  \n",
       "19 167.81       200347               4       20.59        12       0  "
      ]
     },
     "execution_count": 4,
     "metadata": {},
     "output_type": "execute_result"
    }
   ],
   "source": [
    "music.head(20)"
   ]
  },
  {
   "cell_type": "code",
   "execution_count": 5,
   "metadata": {},
   "outputs": [
    {
     "data": {
      "text/html": [
       "<div>\n",
       "<style scoped>\n",
       "    .dataframe tbody tr th:only-of-type {\n",
       "        vertical-align: middle;\n",
       "    }\n",
       "\n",
       "    .dataframe tbody tr th {\n",
       "        vertical-align: top;\n",
       "    }\n",
       "\n",
       "    .dataframe thead th {\n",
       "        text-align: right;\n",
       "    }\n",
       "</style>\n",
       "<table border=\"1\" class=\"dataframe\">\n",
       "  <thead>\n",
       "    <tr style=\"text-align: right;\">\n",
       "      <th></th>\n",
       "      <th>count</th>\n",
       "      <th>mean</th>\n",
       "      <th>std</th>\n",
       "      <th>min</th>\n",
       "      <th>25%</th>\n",
       "      <th>50%</th>\n",
       "      <th>75%</th>\n",
       "      <th>max</th>\n",
       "    </tr>\n",
       "  </thead>\n",
       "  <tbody>\n",
       "    <tr>\n",
       "      <th>danceability</th>\n",
       "      <td>5,872.00</td>\n",
       "      <td>0.54</td>\n",
       "      <td>0.19</td>\n",
       "      <td>0.06</td>\n",
       "      <td>0.42</td>\n",
       "      <td>0.56</td>\n",
       "      <td>0.68</td>\n",
       "      <td>0.99</td>\n",
       "    </tr>\n",
       "    <tr>\n",
       "      <th>energy</th>\n",
       "      <td>5,872.00</td>\n",
       "      <td>0.69</td>\n",
       "      <td>0.24</td>\n",
       "      <td>0.00</td>\n",
       "      <td>0.57</td>\n",
       "      <td>0.74</td>\n",
       "      <td>0.89</td>\n",
       "      <td>1.00</td>\n",
       "    </tr>\n",
       "    <tr>\n",
       "      <th>key</th>\n",
       "      <td>5,872.00</td>\n",
       "      <td>5.28</td>\n",
       "      <td>3.56</td>\n",
       "      <td>0.00</td>\n",
       "      <td>2.00</td>\n",
       "      <td>5.00</td>\n",
       "      <td>8.00</td>\n",
       "      <td>11.00</td>\n",
       "    </tr>\n",
       "    <tr>\n",
       "      <th>loudness</th>\n",
       "      <td>5,872.00</td>\n",
       "      <td>-7.45</td>\n",
       "      <td>5.10</td>\n",
       "      <td>-47.33</td>\n",
       "      <td>-8.31</td>\n",
       "      <td>-6.04</td>\n",
       "      <td>-4.56</td>\n",
       "      <td>1.14</td>\n",
       "    </tr>\n",
       "    <tr>\n",
       "      <th>mode</th>\n",
       "      <td>5,872.00</td>\n",
       "      <td>0.65</td>\n",
       "      <td>0.48</td>\n",
       "      <td>0.00</td>\n",
       "      <td>0.00</td>\n",
       "      <td>1.00</td>\n",
       "      <td>1.00</td>\n",
       "      <td>1.00</td>\n",
       "    </tr>\n",
       "    <tr>\n",
       "      <th>speechiness</th>\n",
       "      <td>5,872.00</td>\n",
       "      <td>0.09</td>\n",
       "      <td>0.09</td>\n",
       "      <td>0.02</td>\n",
       "      <td>0.04</td>\n",
       "      <td>0.05</td>\n",
       "      <td>0.11</td>\n",
       "      <td>0.95</td>\n",
       "    </tr>\n",
       "    <tr>\n",
       "      <th>acousticness</th>\n",
       "      <td>5,872.00</td>\n",
       "      <td>0.21</td>\n",
       "      <td>0.30</td>\n",
       "      <td>0.00</td>\n",
       "      <td>0.00</td>\n",
       "      <td>0.06</td>\n",
       "      <td>0.31</td>\n",
       "      <td>1.00</td>\n",
       "    </tr>\n",
       "    <tr>\n",
       "      <th>instrumentalness</th>\n",
       "      <td>5,872.00</td>\n",
       "      <td>0.15</td>\n",
       "      <td>0.30</td>\n",
       "      <td>0.00</td>\n",
       "      <td>0.00</td>\n",
       "      <td>0.00</td>\n",
       "      <td>0.05</td>\n",
       "      <td>1.00</td>\n",
       "    </tr>\n",
       "    <tr>\n",
       "      <th>liveness</th>\n",
       "      <td>5,872.00</td>\n",
       "      <td>0.20</td>\n",
       "      <td>0.16</td>\n",
       "      <td>0.02</td>\n",
       "      <td>0.09</td>\n",
       "      <td>0.13</td>\n",
       "      <td>0.26</td>\n",
       "      <td>0.99</td>\n",
       "    </tr>\n",
       "    <tr>\n",
       "      <th>valence</th>\n",
       "      <td>5,872.00</td>\n",
       "      <td>0.48</td>\n",
       "      <td>0.25</td>\n",
       "      <td>0.00</td>\n",
       "      <td>0.28</td>\n",
       "      <td>0.49</td>\n",
       "      <td>0.69</td>\n",
       "      <td>0.98</td>\n",
       "    </tr>\n",
       "    <tr>\n",
       "      <th>tempo</th>\n",
       "      <td>5,872.00</td>\n",
       "      <td>121.61</td>\n",
       "      <td>30.18</td>\n",
       "      <td>46.76</td>\n",
       "      <td>96.98</td>\n",
       "      <td>120.00</td>\n",
       "      <td>141.50</td>\n",
       "      <td>213.23</td>\n",
       "    </tr>\n",
       "    <tr>\n",
       "      <th>duration_ms</th>\n",
       "      <td>5,872.00</td>\n",
       "      <td>258,170.63</td>\n",
       "      <td>139,534.12</td>\n",
       "      <td>15,920.00</td>\n",
       "      <td>206,813.00</td>\n",
       "      <td>238,006.50</td>\n",
       "      <td>279,160.00</td>\n",
       "      <td>4,170,227.00</td>\n",
       "    </tr>\n",
       "    <tr>\n",
       "      <th>time_signature</th>\n",
       "      <td>5,872.00</td>\n",
       "      <td>3.91</td>\n",
       "      <td>0.40</td>\n",
       "      <td>0.00</td>\n",
       "      <td>4.00</td>\n",
       "      <td>4.00</td>\n",
       "      <td>4.00</td>\n",
       "      <td>5.00</td>\n",
       "    </tr>\n",
       "    <tr>\n",
       "      <th>chorus_hit</th>\n",
       "      <td>5,872.00</td>\n",
       "      <td>40.73</td>\n",
       "      <td>20.25</td>\n",
       "      <td>0.00</td>\n",
       "      <td>27.51</td>\n",
       "      <td>36.04</td>\n",
       "      <td>47.89</td>\n",
       "      <td>262.62</td>\n",
       "    </tr>\n",
       "    <tr>\n",
       "      <th>sections</th>\n",
       "      <td>5,872.00</td>\n",
       "      <td>11.06</td>\n",
       "      <td>5.76</td>\n",
       "      <td>1.00</td>\n",
       "      <td>9.00</td>\n",
       "      <td>10.00</td>\n",
       "      <td>12.00</td>\n",
       "      <td>169.00</td>\n",
       "    </tr>\n",
       "    <tr>\n",
       "      <th>target</th>\n",
       "      <td>5,872.00</td>\n",
       "      <td>0.50</td>\n",
       "      <td>0.50</td>\n",
       "      <td>0.00</td>\n",
       "      <td>0.00</td>\n",
       "      <td>0.50</td>\n",
       "      <td>1.00</td>\n",
       "      <td>1.00</td>\n",
       "    </tr>\n",
       "  </tbody>\n",
       "</table>\n",
       "</div>"
      ],
      "text/plain": [
       "                    count       mean        std       min        25%  \\\n",
       "danceability     5,872.00       0.54       0.19      0.06       0.42   \n",
       "energy           5,872.00       0.69       0.24      0.00       0.57   \n",
       "key              5,872.00       5.28       3.56      0.00       2.00   \n",
       "loudness         5,872.00      -7.45       5.10    -47.33      -8.31   \n",
       "mode             5,872.00       0.65       0.48      0.00       0.00   \n",
       "speechiness      5,872.00       0.09       0.09      0.02       0.04   \n",
       "acousticness     5,872.00       0.21       0.30      0.00       0.00   \n",
       "instrumentalness 5,872.00       0.15       0.30      0.00       0.00   \n",
       "liveness         5,872.00       0.20       0.16      0.02       0.09   \n",
       "valence          5,872.00       0.48       0.25      0.00       0.28   \n",
       "tempo            5,872.00     121.61      30.18     46.76      96.98   \n",
       "duration_ms      5,872.00 258,170.63 139,534.12 15,920.00 206,813.00   \n",
       "time_signature   5,872.00       3.91       0.40      0.00       4.00   \n",
       "chorus_hit       5,872.00      40.73      20.25      0.00      27.51   \n",
       "sections         5,872.00      11.06       5.76      1.00       9.00   \n",
       "target           5,872.00       0.50       0.50      0.00       0.00   \n",
       "\n",
       "                        50%        75%          max  \n",
       "danceability           0.56       0.68         0.99  \n",
       "energy                 0.74       0.89         1.00  \n",
       "key                    5.00       8.00        11.00  \n",
       "loudness              -6.04      -4.56         1.14  \n",
       "mode                   1.00       1.00         1.00  \n",
       "speechiness            0.05       0.11         0.95  \n",
       "acousticness           0.06       0.31         1.00  \n",
       "instrumentalness       0.00       0.05         1.00  \n",
       "liveness               0.13       0.26         0.99  \n",
       "valence                0.49       0.69         0.98  \n",
       "tempo                120.00     141.50       213.23  \n",
       "duration_ms      238,006.50 279,160.00 4,170,227.00  \n",
       "time_signature         4.00       4.00         5.00  \n",
       "chorus_hit            36.04      47.89       262.62  \n",
       "sections              10.00      12.00       169.00  \n",
       "target                 0.50       1.00         1.00  "
      ]
     },
     "execution_count": 5,
     "metadata": {},
     "output_type": "execute_result"
    }
   ],
   "source": [
    "music.describe().transpose()"
   ]
  },
  {
   "cell_type": "code",
   "execution_count": 6,
   "metadata": {},
   "outputs": [
    {
     "data": {
      "text/plain": [
       "track               0\n",
       "artist              0\n",
       "uri                 0\n",
       "danceability        0\n",
       "energy              0\n",
       "key                 0\n",
       "loudness            0\n",
       "mode                0\n",
       "speechiness         0\n",
       "acousticness        0\n",
       "instrumentalness    0\n",
       "liveness            0\n",
       "valence             0\n",
       "tempo               0\n",
       "duration_ms         0\n",
       "time_signature      0\n",
       "chorus_hit          0\n",
       "sections            0\n",
       "target              0\n",
       "dtype: int64"
      ]
     },
     "execution_count": 6,
     "metadata": {},
     "output_type": "execute_result"
    }
   ],
   "source": [
    "music.isnull().sum()"
   ]
  },
  {
   "cell_type": "code",
   "execution_count": 7,
   "metadata": {},
   "outputs": [
    {
     "data": {
      "text/html": [
       "<div>\n",
       "<style scoped>\n",
       "    .dataframe tbody tr th:only-of-type {\n",
       "        vertical-align: middle;\n",
       "    }\n",
       "\n",
       "    .dataframe tbody tr th {\n",
       "        vertical-align: top;\n",
       "    }\n",
       "\n",
       "    .dataframe thead th {\n",
       "        text-align: right;\n",
       "    }\n",
       "</style>\n",
       "<table border=\"1\" class=\"dataframe\">\n",
       "  <thead>\n",
       "    <tr style=\"text-align: right;\">\n",
       "      <th></th>\n",
       "      <th>track</th>\n",
       "      <th>artist</th>\n",
       "      <th>uri</th>\n",
       "      <th>danceability</th>\n",
       "      <th>energy</th>\n",
       "      <th>key</th>\n",
       "      <th>loudness</th>\n",
       "      <th>mode</th>\n",
       "      <th>speechiness</th>\n",
       "      <th>acousticness</th>\n",
       "      <th>instrumentalness</th>\n",
       "      <th>liveness</th>\n",
       "      <th>valence</th>\n",
       "      <th>tempo</th>\n",
       "      <th>duration_ms</th>\n",
       "      <th>time_signature</th>\n",
       "      <th>chorus_hit</th>\n",
       "      <th>sections</th>\n",
       "      <th>target</th>\n",
       "    </tr>\n",
       "  </thead>\n",
       "  <tbody>\n",
       "  </tbody>\n",
       "</table>\n",
       "</div>"
      ],
      "text/plain": [
       "Empty DataFrame\n",
       "Columns: [track, artist, uri, danceability, energy, key, loudness, mode, speechiness, acousticness, instrumentalness, liveness, valence, tempo, duration_ms, time_signature, chorus_hit, sections, target]\n",
       "Index: []"
      ]
     },
     "execution_count": 7,
     "metadata": {},
     "output_type": "execute_result"
    }
   ],
   "source": [
    "duplicate = music.duplicated()\n",
    "music[duplicate] #no duplicates"
   ]
  },
  {
   "cell_type": "code",
   "execution_count": 8,
   "metadata": {},
   "outputs": [
    {
     "data": {
      "text/plain": [
       "track                object\n",
       "artist               object\n",
       "uri                  object\n",
       "danceability        float64\n",
       "energy              float64\n",
       "key                   int64\n",
       "loudness            float64\n",
       "mode                  int64\n",
       "speechiness         float64\n",
       "acousticness        float64\n",
       "instrumentalness    float64\n",
       "liveness            float64\n",
       "valence             float64\n",
       "tempo               float64\n",
       "duration_ms           int64\n",
       "time_signature        int64\n",
       "chorus_hit          float64\n",
       "sections              int64\n",
       "target                int64\n",
       "dtype: object"
      ]
     },
     "execution_count": 8,
     "metadata": {},
     "output_type": "execute_result"
    }
   ],
   "source": [
    "music.dtypes #objects will be dropped in further analysis anyways. track and artist pairs are compeletely unique, has nothing to do with scaling, statistical tests and ML algoritms"
   ]
  },
  {
   "cell_type": "code",
   "execution_count": 9,
   "metadata": {},
   "outputs": [],
   "source": [
    "music = music.drop([\"uri\"], axis=1)"
   ]
  },
  {
   "cell_type": "code",
   "execution_count": 10,
   "metadata": {},
   "outputs": [
    {
     "name": "stdout",
     "output_type": "stream",
     "text": [
      "unique key values: [ 4 10  9  2 11  1  7  8  0  3  5  6]\n",
      "unique time_signature values: [4 3 1 5 0]\n",
      "unique mode values: [1 0]\n"
     ]
    }
   ],
   "source": [
    "print(\"unique key values:\", music[\"key\"].unique())\n",
    "print(\"unique time_signature values:\", music[\"time_signature\"].unique())\n",
    "print(\"unique mode values:\", music[\"mode\"].unique())"
   ]
  },
  {
   "cell_type": "code",
   "execution_count": 11,
   "metadata": {},
   "outputs": [
    {
     "data": {
      "image/png": "[encoded data removed]",
      "text/plain": [
       "<Figure size 4000x4000 with 16 Axes>"
      ]
     },
     "metadata": {},
     "output_type": "display_data"
    }
   ],
   "source": [
    "music.hist(bins=10,figsize=(40,40), color=\"#1DB954\") #spotify's color code :)\n",
    "plt.show()"
   ]
  },
  {
   "cell_type": "code",
   "execution_count": 12,
   "metadata": {},
   "outputs": [
    {
     "data": {
      "image/png": "[encoded data removed]",
      "text/plain": [
       "<Figure size 1000x700 with 2 Axes>"
      ]
     },
     "metadata": {},
     "output_type": "display_data"
    }
   ],
   "source": [
    "plt.figure(figsize=(10, 7))\n",
    "mask = np.triu(music.corr()) \n",
    "sb.heatmap(music.corr(), cmap=\"Greens\", annot=True, fmt='.1g',square =True, mask=mask);  "
   ]
  },
  {
   "cell_type": "code",
   "execution_count": 13,
   "metadata": {},
   "outputs": [],
   "source": [
    "#pd.options.display.max_columns = None\n",
    "#pd.options.display.max_rows = None"
   ]
  },
  {
   "cell_type": "markdown",
   "metadata": {},
   "source": [
    "# RESEARCH QUESTIONS"
   ]
  },
  {
   "cell_type": "code",
   "execution_count": 14,
   "metadata": {},
   "outputs": [],
   "source": [
    "#!pip3 install plotnine\n",
    "from scipy.stats.stats import pearsonr\n",
    "from scipy import stats\n",
    "import plotnine as p9"
   ]
  },
  {
   "cell_type": "markdown",
   "metadata": {},
   "source": [
    "### Research Question1: How does longer duration_ms effects tracks’ being hit ?"
   ]
  },
  {
   "cell_type": "code",
   "execution_count": 15,
   "metadata": {},
   "outputs": [],
   "source": [
    "from scipy import stats\n",
    "\n",
    "#H₀: data is normally distributed\n",
    "#H₁: data is not normally distributed\n",
    "\n",
    "def check_normality(data):\n",
    "    test_stat_normality, p_value_normality=stats.shapiro(data)\n",
    "    if p_value_normality <0.05:\n",
    "        print(\"Normality Check - p value:\", p_value_normality, \"--> The data is not normally distributed\")\n",
    "    else:\n",
    "        print(\"Normality Check - p value:\", p_value_normality, \"--> The data is normally distributed\") "
   ]
  },
  {
   "cell_type": "code",
   "execution_count": 16,
   "metadata": {},
   "outputs": [],
   "source": [
    "#grouping based on duration_ms mean\n",
    "music.loc[music[\"duration_ms\"] <= music[\"duration_ms\"].mean() , 'durationBin'] = 0\n",
    "music.loc[music[\"duration_ms\"] > music[\"duration_ms\"].mean() , 'durationBin'] = 1\n",
    "\n",
    "low_duration = music[[\"target\", \"duration_ms\", \"durationBin\"]].loc[music[\"durationBin\"] == 0]\n",
    "high_duration = music[[\"target\", \"duration_ms\", \"durationBin\"]].loc[music[\"durationBin\"] == 1]\n",
    "\n",
    "#check_normality(low_duration_ms[\"duration_ms\"]) #boolean not normal\n",
    "#check_normality(high_duration_ms[\"duration_ms\"])\n"
   ]
  },
  {
   "cell_type": "markdown",
   "metadata": {},
   "source": [
    "<i> H₀: Songs with longer duration have higher or equal virality rate than songs with shorter duration <p>\n",
    "H₁: Songs with longer duration has lower virality rate than songs with shorter duration"
   ]
  },
  {
   "cell_type": "code",
   "execution_count": 17,
   "metadata": {},
   "outputs": [
    {
     "name": "stdout",
     "output_type": "stream",
     "text": [
      "p-value:0.00000000000000000000000000000000000000000000000002897758462765294930328225144042\n",
      "Reject null hypothesis\n"
     ]
    }
   ],
   "source": [
    "ttest,pvalue = stats.mannwhitneyu(high_duration[\"target\"], low_duration[\"target\"], alternative=\"less\") #duration:50456100, duration_ms:5795516925530589860656450288084\n",
    "print(\"p-value:%.80f\" % pvalue)\n",
    "if pvalue <0.05:\n",
    "    print(\"Reject null hypothesis\")\n",
    "else:\n",
    "    print(\"Fail to reject null hypothesis\")"
   ]
  },
  {
   "cell_type": "code",
   "execution_count": 18,
   "metadata": {},
   "outputs": [],
   "source": [
    "music = music.drop(\"durationBin\", axis = 1)"
   ]
  },
  {
   "cell_type": "markdown",
   "metadata": {},
   "source": [
    "### Research Question2: How significantly dancebility and song’s virality are correlated ? "
   ]
  },
  {
   "cell_type": "markdown",
   "metadata": {},
   "source": [
    "<i> H₀: Two features are independent. <p>\n",
    "H₁: There is a dependency between two features."
   ]
  },
  {
   "cell_type": "code",
   "execution_count": 19,
   "metadata": {},
   "outputs": [
    {
     "name": "stdout",
     "output_type": "stream",
     "text": [
      "Normality Check - p value: 1.7419510893636113e-21 --> The data is not normally distributed\n",
      "Normality Check - p value: 0.0 --> The data is not normally distributed\n"
     ]
    }
   ],
   "source": [
    "from scipy.stats import pearsonr\n",
    "from scipy.stats import spearmanr\n",
    "from scipy import stats\n",
    "\n",
    "d = music[\"danceability\"]\n",
    "t = music[\"target\"]\n",
    "check_normality(d)\n",
    "check_normality(t)"
   ]
  },
  {
   "cell_type": "code",
   "execution_count": 20,
   "metadata": {},
   "outputs": [
    {
     "data": {
      "image/png": "[encoded data removed]",
      "text/plain": [
       "<Figure size 640x480 with 1 Axes>"
      ]
     },
     "metadata": {},
     "output_type": "display_data"
    },
    {
     "name": "stdout",
     "output_type": "stream",
     "text": [
      "\n"
     ]
    }
   ],
   "source": [
    "tq = stats.probplot(d, dist=\"norm\")\n",
    "df = pd.DataFrame(data = {'Theoretical Quantiles': tq[0][0], \"Sample Quantiles\": d.sort_values() })\n",
    "print(p9.ggplot(df)+ p9.aes('Theoretical Quantiles', \"Sample Quantiles\") +p9.geom_point())"
   ]
  },
  {
   "cell_type": "code",
   "execution_count": 21,
   "metadata": {},
   "outputs": [
    {
     "name": "stdout",
     "output_type": "stream",
     "text": [
      "Spearmans correlation coefficient: 0.449\n",
      "Samples are correlated (reject H0) p=0.00000000000000000000\n"
     ]
    }
   ],
   "source": [
    "# calculate spearman's correlation\n",
    "coef, p = spearmanr(d, t)\n",
    "print('Spearmans correlation coefficient: %.3f' % coef)\n",
    "# interpret the significance\n",
    "alpha = 0.05\n",
    "if p > alpha:\n",
    "    print('Samples are uncorrelated (fail to reject H0) p=%.3f' % p)\n",
    "else:\n",
    "    print('Samples are correlated (reject H0) p=%.20f' % p)"
   ]
  },
  {
   "cell_type": "code",
   "execution_count": 22,
   "metadata": {},
   "outputs": [
    {
     "name": "stdout",
     "output_type": "stream",
     "text": [
      "Pearson correlation coefficient:  0.4585497414167124\n",
      "Two-tailed p-value:  2.8785995213468982e-303\n"
     ]
    }
   ],
   "source": [
    "#calculation correlation coefficient and p-value between x and y\n",
    "[x,y] = pearsonr(d, t)\n",
    "print(\"Pearson correlation coefficient: \", x)\n",
    "print(\"Two-tailed p-value: \", y)"
   ]
  },
  {
   "cell_type": "markdown",
   "metadata": {},
   "source": [
    "Since p=0, samples are correlated (reject H0) <p>\n",
    "Though pearson and spearman may be close to one another, spearman is reliable in this case because the data is not normally distributed. A pearson correlation on non-normal data can also be used, but it's not going to be as relaible as a non-parametric test which does not assume normality."
   ]
  },
  {
   "cell_type": "markdown",
   "metadata": {},
   "source": [
    "### Research Question3: How does mode affect tracks’ being hit? "
   ]
  },
  {
   "cell_type": "code",
   "execution_count": 23,
   "metadata": {},
   "outputs": [
    {
     "name": "stdout",
     "output_type": "stream",
     "text": [
      "Normality Check - p value: 0.0 --> The data is not normally distributed\n"
     ]
    }
   ],
   "source": [
    "m = music[\"mode\"]\n",
    "check_normality(m)\n",
    "#grouping based on duration_ms mean\n",
    "minor_music = music.loc[music[\"mode\"] == 0]\n",
    "major_music = music.loc[music[\"mode\"] == 1]\n",
    "mit= minor_music[\"target\"]\n",
    "mat= major_music[\"target\"]\n"
   ]
  },
  {
   "cell_type": "code",
   "execution_count": 24,
   "metadata": {},
   "outputs": [
    {
     "data": {
      "image/png": "[encoded data removed]",
      "text/plain": [
       "<Figure size 640x480 with 1 Axes>"
      ]
     },
     "metadata": {},
     "output_type": "display_data"
    },
    {
     "name": "stdout",
     "output_type": "stream",
     "text": [
      "\n"
     ]
    }
   ],
   "source": [
    "tq2 = stats.probplot(m, dist=\"norm\")\n",
    "df2 = pd.DataFrame(data = {'Theoretical Quantiles': tq2[0][0], \"Sample Quantiles\": m.sort_values() })\n",
    "print(p9.ggplot(df2)+ p9.aes('Theoretical Quantiles', \"Sample Quantiles\") +p9.geom_point())"
   ]
  },
  {
   "cell_type": "markdown",
   "metadata": {},
   "source": [
    "<b> Statistical Test <p> </b>\n",
    "<i> H₀: The mean of songs with minor mode does not have significant difference than the mean of songs with major mode <p>\n",
    "H₁: The mean of songs with minor mode has significant difference than the mean of songs with major mode"
   ]
  },
  {
   "cell_type": "code",
   "execution_count": 25,
   "metadata": {
    "scrolled": true
   },
   "outputs": [
    {
     "name": "stdout",
     "output_type": "stream",
     "text": [
      "p-value:0.0000\n",
      "Reject null hypothesis\n",
      "Songs with major modes are likely to be hit\n"
     ]
    }
   ],
   "source": [
    "ttest,pvalue = stats.mannwhitneyu(mit,mat, alternative=\"two-sided\")\n",
    "print(\"p-value:%.4f\" % pvalue)\n",
    "if pvalue <0.05:\n",
    "    print(\"Reject null hypothesis\")\n",
    "else:\n",
    "    print(\"Fail to reject null hypothesis\")\n",
    "    \n",
    "avg_mat=mat.mean()\n",
    "avg_mit=mit.mean()\n",
    "if avg_mat > avg_mit:\n",
    "    print(\"Songs with major modes are likely to be hit\")\n",
    "elif avg_mat > avg_mit:\n",
    "    print(\"Songs with minor modes are likely to be hit\")"
   ]
  },
  {
   "cell_type": "markdown",
   "metadata": {},
   "source": [
    "At this significance level, it can be said that there is statistically significant difference between the average target of the two modes"
   ]
  },
  {
   "cell_type": "markdown",
   "metadata": {},
   "source": [
    "### Research Question4: How does converting a continous scaled attribute into ordinal attribute effects the machine learning model performance ? "
   ]
  },
  {
   "cell_type": "code",
   "execution_count": 26,
   "metadata": {},
   "outputs": [],
   "source": [
    "#grouping based on speechiness thresholds \n",
    "\n",
    "music.loc[music[\"speechiness\"] < 0.33 , 'speechinessBin2'] = 0 #almost entirely musical, non-speech-like\n",
    "music.loc[(music[\"speechiness\"] < 0.66) & (music[\"speechiness\"] >=0.33), 'speechinessBin2'] = 1 # include both the music and speech\n",
    "music.loc[music[\"speechiness\"] >= 0.66 , 'speechinessBin2'] = 2 #almost entirely spoken word\n",
    "music.insert(7, 'speechinessBin', music['speechinessBin2'].values)\n",
    "music = music.drop(\"speechinessBin2\", axis = 1)"
   ]
  },
  {
   "cell_type": "code",
   "execution_count": 27,
   "metadata": {},
   "outputs": [],
   "source": [
    "music_original = music.drop(\"speechinessBin\", axis = 1)\n",
    "music_ordinal = music.drop(\"speechiness\", axis = 1)"
   ]
  },
  {
   "cell_type": "markdown",
   "metadata": {},
   "source": [
    "Statistical tests will be based on below null and alternate hyphoteses <p><p>\n",
    "\n",
    "<i> H₀: The mean distribution of ordinal_data performances on specific algorithms is not statistically significantly different than that of original_data on the same algorithms. <p>\n",
    "H₁: The mean distribution of ordinal_data performances on specific algorithms is statistically significantly different than that of ordinal_data on on the same algorithms."
   ]
  },
  {
   "cell_type": "markdown",
   "metadata": {},
   "source": [
    " "
   ]
  },
  {
   "cell_type": "markdown",
   "metadata": {},
   "source": [
    "# MACHINE LEARNING"
   ]
  },
  {
   "cell_type": "code",
   "execution_count": 28,
   "metadata": {},
   "outputs": [],
   "source": [
    "pd.options.display.float_format = '{:,.6f}'.format"
   ]
  },
  {
   "cell_type": "markdown",
   "metadata": {},
   "source": [
    "### Feature Selection, Extraction"
   ]
  },
  {
   "cell_type": "code",
   "execution_count": 29,
   "metadata": {},
   "outputs": [],
   "source": [
    "#manipulating coloumn order\n",
    "music_ordinal = music_ordinal.drop(\"target\", axis = 1)\n",
    "music_ordinal[\"target\"] = music_original[\"target\"]\n",
    "#music_ordinal.head()"
   ]
  },
  {
   "cell_type": "code",
   "execution_count": 30,
   "metadata": {},
   "outputs": [],
   "source": [
    "music_original = music_original.drop(([\"track\",\"artist\"]), axis = 1)\n",
    "music_ordinal = music_ordinal.drop(([\"track\",\"artist\"]), axis = 1)\n",
    "#music_ordinal.head()\n",
    "#music_original.head()\n",
    "#music_original.shape"
   ]
  },
  {
   "cell_type": "code",
   "execution_count": 31,
   "metadata": {},
   "outputs": [],
   "source": [
    "music_dim_red = music_original.drop(([\"energy\", \"duration_ms\"]), axis = 1) #reducing one of the highly correlated features"
   ]
  },
  {
   "cell_type": "code",
   "execution_count": 32,
   "metadata": {},
   "outputs": [],
   "source": [
    "# split into test and train datasets\n",
    "from sklearn.model_selection import train_test_split\n",
    "# original data\n",
    "X_org = music_original.iloc[:, :-1].values\n",
    "y_org = music[\"target\"].values\n",
    "X_train_org, X_test_org, y_train_org, y_test_org = train_test_split(X_org, y_org, test_size=0.20, random_state=200)\n",
    "# ordinal data (speechiness is turned to speechinessBin)\n",
    "X_ord = music_ordinal.iloc[:, :-1].values\n",
    "y_ord = music[\"target\"].values\n",
    "X_train_ord, X_test_ord, y_train_ord, y_test_ord = train_test_split(X_ord, y_ord, test_size=0.20, random_state=200)\n",
    "# dimension reduced data (one of the highly correlated features is dropped to avoid overestimation)\n",
    "X_dim_red = music_dim_red.iloc[:, :-1].values\n",
    "y_dim_red = music[\"target\"].values\n",
    "X_train_dim_red, X_test_dim_red, y_train_dim_red, y_test_dim_red = train_test_split(X_dim_red, y_dim_red, test_size=0.20, random_state=200)"
   ]
  },
  {
   "cell_type": "code",
   "execution_count": 33,
   "metadata": {},
   "outputs": [],
   "source": [
    "from sklearn.preprocessing import StandardScaler\n",
    "scaler = StandardScaler()\n",
    "X_train_org = scaler.fit_transform(X_train_org) \n",
    "X_test_org = scaler.transform(X_test_org)\n",
    "X_train_ord = scaler.fit_transform(X_train_ord) \n",
    "X_test_ord = scaler.transform(X_test_ord)\n",
    "X_train_dim_red = scaler.fit_transform(X_train_dim_red)\n",
    "X_test_dim_red = scaler.transform(X_test_dim_red)"
   ]
  },
  {
   "cell_type": "markdown",
   "metadata": {},
   "source": [
    "# PCA"
   ]
  },
  {
   "cell_type": "code",
   "execution_count": 34,
   "metadata": {},
   "outputs": [],
   "source": [
    "from sklearn.decomposition import PCA \n",
    "pca = PCA()\n",
    "std_x_org = scaler.fit_transform(X_org) \n",
    "std_x_org = pd.DataFrame(std_x_org)\n",
    "std_x_org.columns = music_original.columns[0:15]\n",
    "pca.fit(std_x_org)\n",
    "features_org = range(pca.n_components_)"
   ]
  },
  {
   "cell_type": "code",
   "execution_count": 35,
   "metadata": {
    "scrolled": true
   },
   "outputs": [
    {
     "data": {
      "image/png": "[encoded data removed]",
      "text/plain": [
       "<Figure size 640x480 with 1 Axes>"
      ]
     },
     "metadata": {},
     "output_type": "display_data"
    }
   ],
   "source": [
    "plt.plot(features_org,pca.explained_variance_ratio_)\n",
    "plt.xticks(features_org)\n",
    "plt.ylabel('varience')\n",
    "plt.xlabel('PCA feature')\n",
    "plt.axvline(x=3, ymax = 0.95, color='r', linestyle='--')\n",
    "plt.show()\n",
    "\n",
    "#4 principal component"
   ]
  },
  {
   "cell_type": "code",
   "execution_count": 36,
   "metadata": {},
   "outputs": [],
   "source": [
    "pca_4 = PCA(n_components=4)\n",
    "principal_components = pca_4.fit_transform(std_x_org)\n",
    "principal_df = pd.DataFrame(data = principal_components, columns = ['principal component 1', 'principal component 2', 'principal component 3','principal component 4'])\n",
    "#final_df = pd.concat([principal_df, music_original[\"target\"]], axis = 1)"
   ]
  },
  {
   "cell_type": "code",
   "execution_count": 37,
   "metadata": {},
   "outputs": [],
   "source": [
    "principal_x_train, principal_x_test, principal_y_train, principal_y_test = train_test_split(principal_df,music_original[\"target\"],test_size = 0.2, random_state = 2000)\n",
    "principal_x_train = scaler.fit_transform(principal_x_train) \n",
    "principal_x_test = scaler.transform(principal_x_test)"
   ]
  },
  {
   "cell_type": "markdown",
   "metadata": {},
   "source": [
    "## Baseline Model"
   ]
  },
  {
   "cell_type": "code",
   "execution_count": 38,
   "metadata": {},
   "outputs": [],
   "source": [
    "from sklearn.neighbors import KNeighborsClassifier\n",
    "from sklearn.model_selection import train_test_split, RandomizedSearchCV\n",
    "from sklearn.model_selection import cross_val_score, KFold\n",
    "from sklearn.metrics import accuracy_score, precision_score, recall_score, classification_report, confusion_matrix\n",
    "models = []\n",
    "stdevs = []\n",
    "params = []"
   ]
  },
  {
   "cell_type": "code",
   "execution_count": 39,
   "metadata": {},
   "outputs": [
    {
     "name": "stdout",
     "output_type": "stream",
     "text": [
      "CV results_baseline: [0.7787234  0.75957447 0.74893617 0.79574468 0.74893617 0.84255319\n",
      " 0.80638298 0.80810235 0.77398721 0.77185501]\n",
      "CV score_baseline: 0.7835 +/- 0.0282\n"
     ]
    }
   ],
   "source": [
    "baseline = KNeighborsClassifier(78) #suggested number of neighbors, other parameters as default.\n",
    "baseline.fit(X_train_org, y_train_org)\n",
    "y_pred_baseline = baseline.predict(X_test_org)\n",
    "kf = KFold(n_splits =10,  shuffle = True, random_state = 2000)\n",
    "#kf = StratifiedKFold(n_splits = 5,  shuffle = False, random_state = 2000)\n",
    "cv_results_baseline = cross_val_score(baseline, X_train_org, y_train_org, cv = kf)\n",
    "models.append('KNN_baseline: n_neighbors:78, others: default')\n",
    "stdevs.append(np.std(cv_results_baseline))\n",
    "print('CV results_baseline:', cv_results_baseline)\n",
    "print('CV score_baseline: %.4f +/- %.4f' % (np.mean(cv_results_baseline), np.std(cv_results_baseline))) "
   ]
  },
  {
   "cell_type": "code",
   "execution_count": 40,
   "metadata": {},
   "outputs": [
    {
     "data": {
      "image/png": "[encoded data removed]",
      "text/plain": [
       "<Figure size 640x480 with 1 Axes>"
      ]
     },
     "metadata": {},
     "output_type": "display_data"
    }
   ],
   "source": [
    "from sklearn.metrics import roc_curve\n",
    "from sklearn.metrics import roc_auc_score\n",
    "\n",
    "fpr, tpr, thresholds = roc_curve(y_test_org, y_pred_baseline)\n",
    "plt.plot(fpr, tpr)\n",
    "plt.xlabel(\"False Positive Rate\")\n",
    "plt.ylabel(\"True Positive Rate\")\n",
    "plt.plot([0, 1], [0, 1], \"k--\")\n",
    "auc = roc_auc_score(y_test_org, y_pred_baseline)\n",
    "textstr = 'AUC: ' + str(np.round(auc,6))\n",
    "plt.text(0.75, 0.05, textstr, fontsize=10)\n",
    "plt.show()"
   ]
  },
  {
   "cell_type": "markdown",
   "metadata": {},
   "source": [
    "## KNN"
   ]
  },
  {
   "cell_type": "markdown",
   "metadata": {},
   "source": [
    "#### original data\n",
    "##### with speechiness"
   ]
  },
  {
   "cell_type": "markdown",
   "metadata": {},
   "source": [
    " KNN can be used for multiclass classification"
   ]
  },
  {
   "cell_type": "code",
   "execution_count": 41,
   "metadata": {},
   "outputs": [
    {
     "name": "stdout",
     "output_type": "stream",
     "text": [
      "Fitting 10 folds for each of 10 candidates, totalling 100 fits\n",
      "{'weights': 'uniform', 'n_neighbors': 187, 'metric': 'manhattan'}\n",
      "KNeighborsClassifier(metric='manhattan', n_neighbors=187)\n",
      "0.7719856643832509\n"
     ]
    },
    {
     "data": {
      "text/html": [
       "<div>\n",
       "<style scoped>\n",
       "    .dataframe tbody tr th:only-of-type {\n",
       "        vertical-align: middle;\n",
       "    }\n",
       "\n",
       "    .dataframe tbody tr th {\n",
       "        vertical-align: top;\n",
       "    }\n",
       "\n",
       "    .dataframe thead th {\n",
       "        text-align: right;\n",
       "    }\n",
       "</style>\n",
       "<table border=\"1\" class=\"dataframe\">\n",
       "  <thead>\n",
       "    <tr style=\"text-align: right;\">\n",
       "      <th></th>\n",
       "      <th>params</th>\n",
       "      <th>mean_test_score</th>\n",
       "      <th>rank_test_score</th>\n",
       "    </tr>\n",
       "  </thead>\n",
       "  <tbody>\n",
       "    <tr>\n",
       "      <th>8</th>\n",
       "      <td>{'weights': 'uniform', 'n_neighbors': 187, 'metric': 'manhattan'}</td>\n",
       "      <td>0.771986</td>\n",
       "      <td>1</td>\n",
       "    </tr>\n",
       "    <tr>\n",
       "      <th>7</th>\n",
       "      <td>{'weights': 'distance', 'n_neighbors': 259, 'metric': 'euclidean'}</td>\n",
       "      <td>0.758362</td>\n",
       "      <td>2</td>\n",
       "    </tr>\n",
       "    <tr>\n",
       "      <th>0</th>\n",
       "      <td>{'weights': 'uniform', 'n_neighbors': 653, 'metric': 'manhattan'}</td>\n",
       "      <td>0.710238</td>\n",
       "      <td>3</td>\n",
       "    </tr>\n",
       "    <tr>\n",
       "      <th>9</th>\n",
       "      <td>{'weights': 'distance', 'n_neighbors': 1253, 'metric': 'manhattan'}</td>\n",
       "      <td>0.684478</td>\n",
       "      <td>4</td>\n",
       "    </tr>\n",
       "    <tr>\n",
       "      <th>1</th>\n",
       "      <td>{'weights': 'distance', 'n_neighbors': 1699, 'metric': 'manhattan'}</td>\n",
       "      <td>0.655095</td>\n",
       "      <td>5</td>\n",
       "    </tr>\n",
       "    <tr>\n",
       "      <th>5</th>\n",
       "      <td>{'weights': 'uniform', 'n_neighbors': 1513, 'metric': 'euclidean'}</td>\n",
       "      <td>0.649780</td>\n",
       "      <td>6</td>\n",
       "    </tr>\n",
       "    <tr>\n",
       "      <th>6</th>\n",
       "      <td>{'weights': 'uniform', 'n_neighbors': 1417, 'metric': 'manhattan'}</td>\n",
       "      <td>0.649561</td>\n",
       "      <td>7</td>\n",
       "    </tr>\n",
       "    <tr>\n",
       "      <th>2</th>\n",
       "      <td>{'weights': 'uniform', 'n_neighbors': 1667, 'metric': 'euclidean'}</td>\n",
       "      <td>0.638920</td>\n",
       "      <td>8</td>\n",
       "    </tr>\n",
       "    <tr>\n",
       "      <th>4</th>\n",
       "      <td>{'weights': 'uniform', 'n_neighbors': 2035, 'metric': 'manhattan'}</td>\n",
       "      <td>0.615287</td>\n",
       "      <td>9</td>\n",
       "    </tr>\n",
       "    <tr>\n",
       "      <th>3</th>\n",
       "      <td>{'weights': 'uniform', 'n_neighbors': 2097, 'metric': 'euclidean'}</td>\n",
       "      <td>0.611454</td>\n",
       "      <td>10</td>\n",
       "    </tr>\n",
       "  </tbody>\n",
       "</table>\n",
       "</div>"
      ],
      "text/plain": [
       "                                                                params  \\\n",
       "8    {'weights': 'uniform', 'n_neighbors': 187, 'metric': 'manhattan'}   \n",
       "7   {'weights': 'distance', 'n_neighbors': 259, 'metric': 'euclidean'}   \n",
       "0    {'weights': 'uniform', 'n_neighbors': 653, 'metric': 'manhattan'}   \n",
       "9  {'weights': 'distance', 'n_neighbors': 1253, 'metric': 'manhattan'}   \n",
       "1  {'weights': 'distance', 'n_neighbors': 1699, 'metric': 'manhattan'}   \n",
       "5   {'weights': 'uniform', 'n_neighbors': 1513, 'metric': 'euclidean'}   \n",
       "6   {'weights': 'uniform', 'n_neighbors': 1417, 'metric': 'manhattan'}   \n",
       "2   {'weights': 'uniform', 'n_neighbors': 1667, 'metric': 'euclidean'}   \n",
       "4   {'weights': 'uniform', 'n_neighbors': 2035, 'metric': 'manhattan'}   \n",
       "3   {'weights': 'uniform', 'n_neighbors': 2097, 'metric': 'euclidean'}   \n",
       "\n",
       "   mean_test_score  rank_test_score  \n",
       "8         0.771986                1  \n",
       "7         0.758362                2  \n",
       "0         0.710238                3  \n",
       "9         0.684478                4  \n",
       "1         0.655095                5  \n",
       "5         0.649780                6  \n",
       "6         0.649561                7  \n",
       "2         0.638920                8  \n",
       "4         0.615287                9  \n",
       "3         0.611454               10  "
      ]
     },
     "execution_count": 41,
     "metadata": {},
     "output_type": "execute_result"
    }
   ],
   "source": [
    "param_grid = {'n_neighbors': [i for i in range(77,2499,2)],\n",
    "     'weights': ['uniform', 'distance'],\n",
    "     'metric': ['euclidean','manhattan']\n",
    "    }\n",
    "\n",
    "rand_search = RandomizedSearchCV(KNeighborsClassifier(), param_grid, cv = 10, verbose = 1, random_state=2000 , scoring = \"accuracy\", n_jobs = -1)\n",
    "\n",
    "rand_search.fit(X_train_org, y_train_org)\n",
    "print(rand_search.best_params_)\n",
    "print(rand_search.best_estimator_)\n",
    "print(rand_search.best_score_)\n",
    "\n",
    "results_knn_org = pd.DataFrame(rand_search.cv_results_)[['params','mean_test_score','rank_test_score']]\n",
    "pd.set_option('display.max_colwidth', None)\n",
    "results_knn_org.sort_values('rank_test_score')"
   ]
  },
  {
   "cell_type": "code",
   "execution_count": 42,
   "metadata": {},
   "outputs": [
    {
     "name": "stdout",
     "output_type": "stream",
     "text": [
      "CV results_knn_org: [0.76595745 0.74255319 0.72553191 0.78510638 0.75106383 0.83404255\n",
      " 0.8        0.79744136 0.75266525 0.76119403]\n",
      "CV score_knn_org: 0.7716 +/- 0.0307\n"
     ]
    }
   ],
   "source": [
    "knn_org = KNeighborsClassifier(187, weights = \"uniform\", p = 1) \n",
    "knn_org.fit(X_train_org, y_train_org)\n",
    "params.append(knn_org.get_params)\n",
    "y_pred_knn_org = knn_org.predict(X_test_org)\n",
    "#kf = StratifiedKFold(n_splits = 5,  shuffle = False, random_state = 2000)\n",
    "cv_results_knn_org = cross_val_score(knn_org, X_train_org, y_train_org, cv = kf)\n",
    "models.append('KNN_org: n_neighbors:187, weights:\"uniform\", distance:\"Manhattan\", others: default')\n",
    "stdevs.append(np.std(cv_results_knn_org))\n",
    "print('CV results_knn_org:', cv_results_knn_org)\n",
    "print('CV score_knn_org: %.4f +/- %.4f' % (np.mean(cv_results_knn_org), np.std(cv_results_knn_org))) "
   ]
  },
  {
   "cell_type": "code",
   "execution_count": 43,
   "metadata": {},
   "outputs": [
    {
     "name": "stdout",
     "output_type": "stream",
     "text": [
      "              precision    recall  f1-score   support\n",
      "\n",
      "           0       0.94      0.52      0.67       584\n",
      "           1       0.67      0.97      0.79       591\n",
      "\n",
      "    accuracy                           0.75      1175\n",
      "   macro avg       0.81      0.74      0.73      1175\n",
      "weighted avg       0.80      0.75      0.73      1175\n",
      "\n"
     ]
    }
   ],
   "source": [
    "print(classification_report(y_test_org, y_pred_knn_org))"
   ]
  },
  {
   "cell_type": "markdown",
   "metadata": {},
   "source": [
    "#### ordinal data\n",
    "##### with speechinessBin"
   ]
  },
  {
   "cell_type": "code",
   "execution_count": 44,
   "metadata": {},
   "outputs": [
    {
     "name": "stdout",
     "output_type": "stream",
     "text": [
      "Fitting 10 folds for each of 10 candidates, totalling 100 fits\n",
      "{'weights': 'uniform', 'n_neighbors': 187, 'metric': 'manhattan'}\n",
      "KNeighborsClassifier(metric='manhattan', n_neighbors=187)\n",
      "0.7653862904323369\n"
     ]
    },
    {
     "data": {
      "text/html": [
       "<div>\n",
       "<style scoped>\n",
       "    .dataframe tbody tr th:only-of-type {\n",
       "        vertical-align: middle;\n",
       "    }\n",
       "\n",
       "    .dataframe tbody tr th {\n",
       "        vertical-align: top;\n",
       "    }\n",
       "\n",
       "    .dataframe thead th {\n",
       "        text-align: right;\n",
       "    }\n",
       "</style>\n",
       "<table border=\"1\" class=\"dataframe\">\n",
       "  <thead>\n",
       "    <tr style=\"text-align: right;\">\n",
       "      <th></th>\n",
       "      <th>params</th>\n",
       "      <th>mean_test_score</th>\n",
       "      <th>rank_test_score</th>\n",
       "    </tr>\n",
       "  </thead>\n",
       "  <tbody>\n",
       "    <tr>\n",
       "      <th>8</th>\n",
       "      <td>{'weights': 'uniform', 'n_neighbors': 187, 'metric': 'manhattan'}</td>\n",
       "      <td>0.765386</td>\n",
       "      <td>1</td>\n",
       "    </tr>\n",
       "    <tr>\n",
       "      <th>7</th>\n",
       "      <td>{'weights': 'distance', 'n_neighbors': 259, 'metric': 'euclidean'}</td>\n",
       "      <td>0.754317</td>\n",
       "      <td>2</td>\n",
       "    </tr>\n",
       "    <tr>\n",
       "      <th>0</th>\n",
       "      <td>{'weights': 'uniform', 'n_neighbors': 653, 'metric': 'manhattan'}</td>\n",
       "      <td>0.706197</td>\n",
       "      <td>3</td>\n",
       "    </tr>\n",
       "    <tr>\n",
       "      <th>9</th>\n",
       "      <td>{'weights': 'distance', 'n_neighbors': 1253, 'metric': 'manhattan'}</td>\n",
       "      <td>0.675963</td>\n",
       "      <td>4</td>\n",
       "    </tr>\n",
       "    <tr>\n",
       "      <th>1</th>\n",
       "      <td>{'weights': 'distance', 'n_neighbors': 1699, 'metric': 'manhattan'}</td>\n",
       "      <td>0.647647</td>\n",
       "      <td>5</td>\n",
       "    </tr>\n",
       "    <tr>\n",
       "      <th>5</th>\n",
       "      <td>{'weights': 'uniform', 'n_neighbors': 1513, 'metric': 'euclidean'}</td>\n",
       "      <td>0.646374</td>\n",
       "      <td>6</td>\n",
       "    </tr>\n",
       "    <tr>\n",
       "      <th>6</th>\n",
       "      <td>{'weights': 'uniform', 'n_neighbors': 1417, 'metric': 'manhattan'}</td>\n",
       "      <td>0.644241</td>\n",
       "      <td>7</td>\n",
       "    </tr>\n",
       "    <tr>\n",
       "      <th>2</th>\n",
       "      <td>{'weights': 'uniform', 'n_neighbors': 1667, 'metric': 'euclidean'}</td>\n",
       "      <td>0.632746</td>\n",
       "      <td>8</td>\n",
       "    </tr>\n",
       "    <tr>\n",
       "      <th>4</th>\n",
       "      <td>{'weights': 'uniform', 'n_neighbors': 2035, 'metric': 'manhattan'}</td>\n",
       "      <td>0.610177</td>\n",
       "      <td>9</td>\n",
       "    </tr>\n",
       "    <tr>\n",
       "      <th>3</th>\n",
       "      <td>{'weights': 'uniform', 'n_neighbors': 2097, 'metric': 'euclidean'}</td>\n",
       "      <td>0.605917</td>\n",
       "      <td>10</td>\n",
       "    </tr>\n",
       "  </tbody>\n",
       "</table>\n",
       "</div>"
      ],
      "text/plain": [
       "                                                                params  \\\n",
       "8    {'weights': 'uniform', 'n_neighbors': 187, 'metric': 'manhattan'}   \n",
       "7   {'weights': 'distance', 'n_neighbors': 259, 'metric': 'euclidean'}   \n",
       "0    {'weights': 'uniform', 'n_neighbors': 653, 'metric': 'manhattan'}   \n",
       "9  {'weights': 'distance', 'n_neighbors': 1253, 'metric': 'manhattan'}   \n",
       "1  {'weights': 'distance', 'n_neighbors': 1699, 'metric': 'manhattan'}   \n",
       "5   {'weights': 'uniform', 'n_neighbors': 1513, 'metric': 'euclidean'}   \n",
       "6   {'weights': 'uniform', 'n_neighbors': 1417, 'metric': 'manhattan'}   \n",
       "2   {'weights': 'uniform', 'n_neighbors': 1667, 'metric': 'euclidean'}   \n",
       "4   {'weights': 'uniform', 'n_neighbors': 2035, 'metric': 'manhattan'}   \n",
       "3   {'weights': 'uniform', 'n_neighbors': 2097, 'metric': 'euclidean'}   \n",
       "\n",
       "   mean_test_score  rank_test_score  \n",
       "8         0.765386                1  \n",
       "7         0.754317                2  \n",
       "0         0.706197                3  \n",
       "9         0.675963                4  \n",
       "1         0.647647                5  \n",
       "5         0.646374                6  \n",
       "6         0.644241                7  \n",
       "2         0.632746                8  \n",
       "4         0.610177                9  \n",
       "3         0.605917               10  "
      ]
     },
     "execution_count": 44,
     "metadata": {},
     "output_type": "execute_result"
    }
   ],
   "source": [
    "param_grid = {'n_neighbors': [i for i in range(77,2499,2)],\n",
    "#[500,1000,2500], #binary classification 100,150,200,\n",
    "     'weights': ['uniform', 'distance'],\n",
    "     'metric': ['euclidean','manhattan']\n",
    "    }\n",
    "\n",
    "rand_search = RandomizedSearchCV(KNeighborsClassifier(), param_grid, cv = 10, verbose = 1, random_state=2000 , scoring = \"accuracy\", n_jobs = -1)\n",
    "\n",
    "rand_search.fit(X_train_ord, y_train_ord)\n",
    "print(rand_search.best_params_)\n",
    "print(rand_search.best_estimator_)\n",
    "print(rand_search.best_score_)\n",
    "\n",
    "results_knn_ord = pd.DataFrame(rand_search.cv_results_)[['params','mean_test_score','rank_test_score']]\n",
    "pd.set_option('display.max_colwidth', None)\n",
    "results_knn_ord.sort_values('rank_test_score')"
   ]
  },
  {
   "cell_type": "code",
   "execution_count": 45,
   "metadata": {},
   "outputs": [
    {
     "name": "stdout",
     "output_type": "stream",
     "text": [
      "CV results_knn_ord: [0.75744681 0.74042553 0.7212766  0.77659574 0.74468085 0.81702128\n",
      " 0.80212766 0.79104478 0.74413646 0.75266525]\n",
      "CV score_knn_ord: 0.7647 +/- 0.0291\n"
     ]
    }
   ],
   "source": [
    "knn_ord = KNeighborsClassifier(187, weights = \"uniform\", p = 1) \n",
    "knn_ord.fit(X_train_ord, y_train_ord)\n",
    "params.append(knn_ord.get_params)\n",
    "y_pred_knn_ord = knn_ord.predict(X_test_ord)\n",
    "#kf = StratifiedKFold(n_splits = 5,  shuffle = False, random_state = 2000)\n",
    "cv_results_knn_ord = cross_val_score(knn_ord, X_train_ord, y_train_ord, cv = kf)\n",
    "models.append('KNN_ord: n_neighbors:187, weights:\"uniform\", distance:\"Manhattan\", others: default')\n",
    "stdevs.append(np.std(cv_results_knn_ord))\n",
    "print('CV results_knn_ord:', cv_results_knn_ord)\n",
    "print('CV score_knn_ord: %.4f +/- %.4f' % (np.mean(cv_results_knn_ord), np.std(cv_results_knn_ord))) "
   ]
  },
  {
   "cell_type": "code",
   "execution_count": 46,
   "metadata": {},
   "outputs": [
    {
     "name": "stdout",
     "output_type": "stream",
     "text": [
      "              precision    recall  f1-score   support\n",
      "\n",
      "           0       0.94      0.52      0.67       584\n",
      "           1       0.67      0.96      0.79       591\n",
      "\n",
      "    accuracy                           0.74      1175\n",
      "   macro avg       0.80      0.74      0.73      1175\n",
      "weighted avg       0.80      0.74      0.73      1175\n",
      "\n"
     ]
    }
   ],
   "source": [
    "print(classification_report(y_test_ord, y_pred_knn_ord))"
   ]
  },
  {
   "cell_type": "markdown",
   "metadata": {},
   "source": [
    "with ordinal speechinessBin, altough performance on validation decreases slightly, performance on test data increases, again slightly"
   ]
  },
  {
   "cell_type": "markdown",
   "metadata": {},
   "source": [
    "#### dimension reduced data"
   ]
  },
  {
   "cell_type": "code",
   "execution_count": 47,
   "metadata": {},
   "outputs": [
    {
     "name": "stdout",
     "output_type": "stream",
     "text": [
      "Fitting 10 folds for each of 10 candidates, totalling 100 fits\n",
      "{'weights': 'uniform', 'n_neighbors': 187, 'metric': 'manhattan'}\n",
      "KNeighborsClassifier(metric='manhattan', n_neighbors=187)\n",
      "0.7553803928684844\n"
     ]
    },
    {
     "data": {
      "text/html": [
       "<div>\n",
       "<style scoped>\n",
       "    .dataframe tbody tr th:only-of-type {\n",
       "        vertical-align: middle;\n",
       "    }\n",
       "\n",
       "    .dataframe tbody tr th {\n",
       "        vertical-align: top;\n",
       "    }\n",
       "\n",
       "    .dataframe thead th {\n",
       "        text-align: right;\n",
       "    }\n",
       "</style>\n",
       "<table border=\"1\" class=\"dataframe\">\n",
       "  <thead>\n",
       "    <tr style=\"text-align: right;\">\n",
       "      <th></th>\n",
       "      <th>params</th>\n",
       "      <th>mean_test_score</th>\n",
       "      <th>rank_test_score</th>\n",
       "    </tr>\n",
       "  </thead>\n",
       "  <tbody>\n",
       "    <tr>\n",
       "      <th>8</th>\n",
       "      <td>{'weights': 'uniform', 'n_neighbors': 187, 'metric': 'manhattan'}</td>\n",
       "      <td>0.755380</td>\n",
       "      <td>1</td>\n",
       "    </tr>\n",
       "    <tr>\n",
       "      <th>7</th>\n",
       "      <td>{'weights': 'distance', 'n_neighbors': 259, 'metric': 'euclidean'}</td>\n",
       "      <td>0.753464</td>\n",
       "      <td>2</td>\n",
       "    </tr>\n",
       "    <tr>\n",
       "      <th>0</th>\n",
       "      <td>{'weights': 'uniform', 'n_neighbors': 653, 'metric': 'manhattan'}</td>\n",
       "      <td>0.709811</td>\n",
       "      <td>3</td>\n",
       "    </tr>\n",
       "    <tr>\n",
       "      <th>9</th>\n",
       "      <td>{'weights': 'distance', 'n_neighbors': 1253, 'metric': 'manhattan'}</td>\n",
       "      <td>0.682560</td>\n",
       "      <td>4</td>\n",
       "    </tr>\n",
       "    <tr>\n",
       "      <th>5</th>\n",
       "      <td>{'weights': 'uniform', 'n_neighbors': 1513, 'metric': 'euclidean'}</td>\n",
       "      <td>0.660849</td>\n",
       "      <td>5</td>\n",
       "    </tr>\n",
       "    <tr>\n",
       "      <th>1</th>\n",
       "      <td>{'weights': 'distance', 'n_neighbors': 1699, 'metric': 'manhattan'}</td>\n",
       "      <td>0.659996</td>\n",
       "      <td>6</td>\n",
       "    </tr>\n",
       "    <tr>\n",
       "      <th>6</th>\n",
       "      <td>{'weights': 'uniform', 'n_neighbors': 1417, 'metric': 'manhattan'}</td>\n",
       "      <td>0.656589</td>\n",
       "      <td>7</td>\n",
       "    </tr>\n",
       "    <tr>\n",
       "      <th>2</th>\n",
       "      <td>{'weights': 'uniform', 'n_neighbors': 1667, 'metric': 'euclidean'}</td>\n",
       "      <td>0.651695</td>\n",
       "      <td>8</td>\n",
       "    </tr>\n",
       "    <tr>\n",
       "      <th>3</th>\n",
       "      <td>{'weights': 'uniform', 'n_neighbors': 2097, 'metric': 'euclidean'}</td>\n",
       "      <td>0.631895</td>\n",
       "      <td>9</td>\n",
       "    </tr>\n",
       "    <tr>\n",
       "      <th>4</th>\n",
       "      <td>{'weights': 'uniform', 'n_neighbors': 2035, 'metric': 'manhattan'}</td>\n",
       "      <td>0.630827</td>\n",
       "      <td>10</td>\n",
       "    </tr>\n",
       "  </tbody>\n",
       "</table>\n",
       "</div>"
      ],
      "text/plain": [
       "                                                                params  \\\n",
       "8    {'weights': 'uniform', 'n_neighbors': 187, 'metric': 'manhattan'}   \n",
       "7   {'weights': 'distance', 'n_neighbors': 259, 'metric': 'euclidean'}   \n",
       "0    {'weights': 'uniform', 'n_neighbors': 653, 'metric': 'manhattan'}   \n",
       "9  {'weights': 'distance', 'n_neighbors': 1253, 'metric': 'manhattan'}   \n",
       "5   {'weights': 'uniform', 'n_neighbors': 1513, 'metric': 'euclidean'}   \n",
       "1  {'weights': 'distance', 'n_neighbors': 1699, 'metric': 'manhattan'}   \n",
       "6   {'weights': 'uniform', 'n_neighbors': 1417, 'metric': 'manhattan'}   \n",
       "2   {'weights': 'uniform', 'n_neighbors': 1667, 'metric': 'euclidean'}   \n",
       "3   {'weights': 'uniform', 'n_neighbors': 2097, 'metric': 'euclidean'}   \n",
       "4   {'weights': 'uniform', 'n_neighbors': 2035, 'metric': 'manhattan'}   \n",
       "\n",
       "   mean_test_score  rank_test_score  \n",
       "8         0.755380                1  \n",
       "7         0.753464                2  \n",
       "0         0.709811                3  \n",
       "9         0.682560                4  \n",
       "5         0.660849                5  \n",
       "1         0.659996                6  \n",
       "6         0.656589                7  \n",
       "2         0.651695                8  \n",
       "3         0.631895                9  \n",
       "4         0.630827               10  "
      ]
     },
     "execution_count": 47,
     "metadata": {},
     "output_type": "execute_result"
    }
   ],
   "source": [
    "param_grid = {'n_neighbors': [i for i in range(77,2499,2)],\n",
    "#[500,1000,2500], #binary classification 100,150,200,\n",
    "     'weights': ['uniform', 'distance'],\n",
    "     'metric': ['euclidean','manhattan']\n",
    "    }\n",
    "\n",
    "rand_search = RandomizedSearchCV(KNeighborsClassifier(), param_grid, cv = 10, verbose = 1, random_state=2000 , scoring = \"accuracy\", n_jobs = -1)\n",
    "\n",
    "rand_search.fit(X_train_dim_red, y_train_dim_red)\n",
    "print(rand_search.best_params_)\n",
    "print(rand_search.best_estimator_)\n",
    "print(rand_search.best_score_)\n",
    "\n",
    "results_knn_dim_red = pd.DataFrame(rand_search.cv_results_)[['params','mean_test_score','rank_test_score']]\n",
    "pd.set_option('display.max_colwidth', None)\n",
    "results_knn_dim_red.sort_values('rank_test_score')"
   ]
  },
  {
   "cell_type": "code",
   "execution_count": 48,
   "metadata": {},
   "outputs": [
    {
     "name": "stdout",
     "output_type": "stream",
     "text": [
      "CV results_knn_dim_red: [0.75319149 0.73191489 0.72340426 0.77446809 0.72765957 0.8\n",
      " 0.79574468 0.7803838  0.73347548 0.75692964]\n",
      "CV score_knn_dim_red: 0.7577 +/- 0.0272\n"
     ]
    }
   ],
   "source": [
    "knn_dim_red = KNeighborsClassifier(187, weights = \"uniform\", p = 1) \n",
    "knn_dim_red.fit(X_train_dim_red, y_train_dim_red)\n",
    "y_pred_knn_dim_red = knn_dim_red.predict(X_test_dim_red)\n",
    "params.append(knn_dim_red.get_params)\n",
    "#kf = StratifiedKFold(n_splits = 5,  shuffle = False, random_state = 2000)\n",
    "cv_results_knn_dim_red = cross_val_score(knn_dim_red, X_train_dim_red, y_train_dim_red, cv = kf)\n",
    "models.append('KNN_dim_red: n_neighbors:187, weights:\"uniform\", distance:\"Manhattan\", others: default')\n",
    "stdevs.append(np.std(cv_results_knn_dim_red))\n",
    "print('CV results_knn_dim_red:', cv_results_knn_dim_red)\n",
    "print('CV score_knn_dim_red: %.4f +/- %.4f' % (np.mean(cv_results_knn_dim_red), np.std(cv_results_knn_dim_red))) "
   ]
  },
  {
   "cell_type": "code",
   "execution_count": 49,
   "metadata": {},
   "outputs": [
    {
     "name": "stdout",
     "output_type": "stream",
     "text": [
      "              precision    recall  f1-score   support\n",
      "\n",
      "           0       0.95      0.51      0.66       584\n",
      "           1       0.67      0.97      0.79       591\n",
      "\n",
      "    accuracy                           0.74      1175\n",
      "   macro avg       0.81      0.74      0.73      1175\n",
      "weighted avg       0.81      0.74      0.73      1175\n",
      "\n"
     ]
    }
   ],
   "source": [
    "print(classification_report(y_test_dim_red, y_pred_knn_dim_red))"
   ]
  },
  {
   "cell_type": "markdown",
   "metadata": {},
   "source": [
    "dimension reduction doesnt result in significant improvement, so it won't be run with upcoming algorithms"
   ]
  },
  {
   "cell_type": "markdown",
   "metadata": {},
   "source": [
    "#### pca data"
   ]
  },
  {
   "cell_type": "code",
   "execution_count": 50,
   "metadata": {},
   "outputs": [
    {
     "name": "stdout",
     "output_type": "stream",
     "text": [
      "Fitting 10 folds for each of 10 candidates, totalling 100 fits\n",
      "{'weights': 'distance', 'n_neighbors': 259, 'metric': 'euclidean'}\n",
      "KNeighborsClassifier(metric='euclidean', n_neighbors=259, weights='distance')\n",
      "0.7596302681123259\n"
     ]
    },
    {
     "data": {
      "text/html": [
       "<div>\n",
       "<style scoped>\n",
       "    .dataframe tbody tr th:only-of-type {\n",
       "        vertical-align: middle;\n",
       "    }\n",
       "\n",
       "    .dataframe tbody tr th {\n",
       "        vertical-align: top;\n",
       "    }\n",
       "\n",
       "    .dataframe thead th {\n",
       "        text-align: right;\n",
       "    }\n",
       "</style>\n",
       "<table border=\"1\" class=\"dataframe\">\n",
       "  <thead>\n",
       "    <tr style=\"text-align: right;\">\n",
       "      <th></th>\n",
       "      <th>params</th>\n",
       "      <th>mean_test_score</th>\n",
       "      <th>rank_test_score</th>\n",
       "    </tr>\n",
       "  </thead>\n",
       "  <tbody>\n",
       "    <tr>\n",
       "      <th>7</th>\n",
       "      <td>{'weights': 'distance', 'n_neighbors': 259, 'metric': 'euclidean'}</td>\n",
       "      <td>0.759630</td>\n",
       "      <td>1</td>\n",
       "    </tr>\n",
       "    <tr>\n",
       "      <th>8</th>\n",
       "      <td>{'weights': 'uniform', 'n_neighbors': 187, 'metric': 'manhattan'}</td>\n",
       "      <td>0.758142</td>\n",
       "      <td>2</td>\n",
       "    </tr>\n",
       "    <tr>\n",
       "      <th>0</th>\n",
       "      <td>{'weights': 'uniform', 'n_neighbors': 653, 'metric': 'manhattan'}</td>\n",
       "      <td>0.736856</td>\n",
       "      <td>3</td>\n",
       "    </tr>\n",
       "    <tr>\n",
       "      <th>9</th>\n",
       "      <td>{'weights': 'distance', 'n_neighbors': 1253, 'metric': 'manhattan'}</td>\n",
       "      <td>0.727274</td>\n",
       "      <td>4</td>\n",
       "    </tr>\n",
       "    <tr>\n",
       "      <th>1</th>\n",
       "      <td>{'weights': 'distance', 'n_neighbors': 1699, 'metric': 'manhattan'}</td>\n",
       "      <td>0.711733</td>\n",
       "      <td>5</td>\n",
       "    </tr>\n",
       "    <tr>\n",
       "      <th>5</th>\n",
       "      <td>{'weights': 'uniform', 'n_neighbors': 1513, 'metric': 'euclidean'}</td>\n",
       "      <td>0.711095</td>\n",
       "      <td>6</td>\n",
       "    </tr>\n",
       "    <tr>\n",
       "      <th>2</th>\n",
       "      <td>{'weights': 'uniform', 'n_neighbors': 1667, 'metric': 'euclidean'}</td>\n",
       "      <td>0.703001</td>\n",
       "      <td>7</td>\n",
       "    </tr>\n",
       "    <tr>\n",
       "      <th>6</th>\n",
       "      <td>{'weights': 'uniform', 'n_neighbors': 1417, 'metric': 'manhattan'}</td>\n",
       "      <td>0.702364</td>\n",
       "      <td>8</td>\n",
       "    </tr>\n",
       "    <tr>\n",
       "      <th>3</th>\n",
       "      <td>{'weights': 'uniform', 'n_neighbors': 2097, 'metric': 'euclidean'}</td>\n",
       "      <td>0.690650</td>\n",
       "      <td>9</td>\n",
       "    </tr>\n",
       "    <tr>\n",
       "      <th>4</th>\n",
       "      <td>{'weights': 'uniform', 'n_neighbors': 2035, 'metric': 'manhattan'}</td>\n",
       "      <td>0.673622</td>\n",
       "      <td>10</td>\n",
       "    </tr>\n",
       "  </tbody>\n",
       "</table>\n",
       "</div>"
      ],
      "text/plain": [
       "                                                                params  \\\n",
       "7   {'weights': 'distance', 'n_neighbors': 259, 'metric': 'euclidean'}   \n",
       "8    {'weights': 'uniform', 'n_neighbors': 187, 'metric': 'manhattan'}   \n",
       "0    {'weights': 'uniform', 'n_neighbors': 653, 'metric': 'manhattan'}   \n",
       "9  {'weights': 'distance', 'n_neighbors': 1253, 'metric': 'manhattan'}   \n",
       "1  {'weights': 'distance', 'n_neighbors': 1699, 'metric': 'manhattan'}   \n",
       "5   {'weights': 'uniform', 'n_neighbors': 1513, 'metric': 'euclidean'}   \n",
       "2   {'weights': 'uniform', 'n_neighbors': 1667, 'metric': 'euclidean'}   \n",
       "6   {'weights': 'uniform', 'n_neighbors': 1417, 'metric': 'manhattan'}   \n",
       "3   {'weights': 'uniform', 'n_neighbors': 2097, 'metric': 'euclidean'}   \n",
       "4   {'weights': 'uniform', 'n_neighbors': 2035, 'metric': 'manhattan'}   \n",
       "\n",
       "   mean_test_score  rank_test_score  \n",
       "7         0.759630                1  \n",
       "8         0.758142                2  \n",
       "0         0.736856                3  \n",
       "9         0.727274                4  \n",
       "1         0.711733                5  \n",
       "5         0.711095                6  \n",
       "2         0.703001                7  \n",
       "6         0.702364                8  \n",
       "3         0.690650                9  \n",
       "4         0.673622               10  "
      ]
     },
     "execution_count": 50,
     "metadata": {},
     "output_type": "execute_result"
    }
   ],
   "source": [
    "from sklearn.neighbors import KNeighborsClassifier\n",
    "from sklearn.model_selection import RandomizedSearchCV\n",
    "\n",
    "param_grid = {'n_neighbors': [i for i in range(77,2499,2)],\n",
    "#[500,1000,2500], #binary classification 100,150,200,\n",
    "#choosing k so small like 100 and lower would be overfitting compared to number of datapoints 5600. so n_neigbors intervals have minimum 500 whic yields more stable, generizable model \n",
    "     'weights': ['uniform', 'distance'],\n",
    "     'metric': ['euclidean','manhattan']\n",
    "    }\n",
    "\n",
    "rand_search = RandomizedSearchCV(KNeighborsClassifier(), param_grid, cv = 10, verbose = 1, random_state=2000 , scoring = \"accuracy\", n_jobs = -1)\n",
    "\n",
    "rand_search.fit(principal_x_train, principal_y_train)\n",
    "print(rand_search.best_params_)\n",
    "print(rand_search.best_estimator_)\n",
    "print(rand_search.best_score_)\n",
    "\n",
    "results_knn_pca_org = pd.DataFrame(rand_search.cv_results_)[['params','mean_test_score','rank_test_score']]\n",
    "pd.set_option('display.max_colwidth', None)\n",
    "results_knn_pca_org.sort_values('rank_test_score')"
   ]
  },
  {
   "cell_type": "code",
   "execution_count": 51,
   "metadata": {
    "scrolled": true
   },
   "outputs": [
    {
     "name": "stdout",
     "output_type": "stream",
     "text": [
      "CV results_knn_pca_org: [0.75531915 0.77659574 0.74042553 0.73829787 0.76382979 0.74255319\n",
      " 0.77234043 0.75692964 0.7782516  0.76332623]\n",
      "CV score_knn_pca_org: 0.7588 +/- 0.0140\n"
     ]
    }
   ],
   "source": [
    "knn_pca_org = KNeighborsClassifier(187, weights = \"uniform\", p = 1) \n",
    "knn_pca_org.fit(principal_x_train, principal_y_train)\n",
    "y_pred_knn_pca_org = knn_pca_org.predict(principal_x_test)\n",
    "params.append(knn_pca_org.get_params)\n",
    "#kf = StratifiedKFold(n_splits = 5,  shuffle = False, random_state = 2000)\n",
    "cv_results_knn_pca_org = cross_val_score(knn_pca_org, principal_x_train, principal_y_train, cv = kf)\n",
    "models.append('KNN_pca: n_neighbors:187, weights:\"uniform\", distance:\"Manhattan\", others: default')\n",
    "stdevs.append(np.std(cv_results_knn_pca_org))\n",
    "print('CV results_knn_pca_org:', cv_results_knn_pca_org)\n",
    "print('CV score_knn_pca_org: %.4f +/- %.4f' % (np.mean(cv_results_knn_pca_org), np.std(cv_results_knn_pca_org))) "
   ]
  },
  {
   "cell_type": "code",
   "execution_count": 52,
   "metadata": {
    "scrolled": true
   },
   "outputs": [
    {
     "name": "stdout",
     "output_type": "stream",
     "text": [
      "              precision    recall  f1-score   support\n",
      "\n",
      "           0       0.85      0.60      0.70       596\n",
      "           1       0.68      0.89      0.77       579\n",
      "\n",
      "    accuracy                           0.74      1175\n",
      "   macro avg       0.76      0.74      0.73      1175\n",
      "weighted avg       0.76      0.74      0.73      1175\n",
      "\n"
     ]
    }
   ],
   "source": [
    "print(classification_report(principal_y_test, y_pred_knn_pca_org))"
   ]
  },
  {
   "cell_type": "code",
   "execution_count": 53,
   "metadata": {},
   "outputs": [
    {
     "data": {
      "text/plain": [
       "<matplotlib.legend.Legend at 0x7f8862226d00>"
      ]
     },
     "execution_count": 53,
     "metadata": {},
     "output_type": "execute_result"
    },
    {
     "data": {
      "text/plain": [
       "<Figure size 2000x1600 with 0 Axes>"
      ]
     },
     "metadata": {},
     "output_type": "display_data"
    },
    {
     "data": {
      "image/png": "[encoded data removed]",
      "text/plain": [
       "<Figure size 640x480 with 1 Axes>"
      ]
     },
     "metadata": {},
     "output_type": "display_data"
    }
   ],
   "source": [
    "plt.figure(figsize=(20, 16))\n",
    "plt.figure(0).clf()\n",
    "\n",
    "fpr, tpr, _ = roc_curve(y_test_org, y_pred_baseline)\n",
    "auc = round(roc_auc_score(y_test_org, y_pred_baseline), 4)\n",
    "plt.plot(fpr,tpr,label=\"Baseline, AUC=\"+str(auc))\n",
    "\n",
    "fpr, tpr, _ = roc_curve(y_test_org, y_pred_knn_org)\n",
    "auc = round(roc_auc_score(y_test_org, y_pred_knn_org), 4)\n",
    "plt.plot(fpr,tpr,label=\"KNN on dataset1, AUC=\"+str(auc))\n",
    "\n",
    "fpr, tpr, _ = roc_curve(y_test_ord, y_pred_knn_ord)\n",
    "auc = round(roc_auc_score(y_test_ord, y_pred_knn_ord), 4)\n",
    "plt.plot(fpr,tpr,label=\"KNN on dataset2, AUC=\"+str(auc))\n",
    "\n",
    "fpr, tpr, _ = roc_curve(y_test_dim_red, y_pred_knn_dim_red)\n",
    "auc = round(roc_auc_score(y_test_dim_red, y_pred_knn_dim_red), 4)\n",
    "plt.plot(fpr,tpr,label=\"KNN on dataset3, AUC=\"+str(auc))\n",
    "\n",
    "fpr, tpr, _ = roc_curve(principal_y_test, y_pred_knn_pca_org)\n",
    "auc = round(roc_auc_score(principal_y_test, y_pred_knn_pca_org), 4)\n",
    "plt.plot(fpr,tpr,label=\"KNN on dataset4, AUC=\"+str(auc))\n",
    "\n",
    "#add legend\n",
    "plt.legend()"
   ]
  },
  {
   "cell_type": "markdown",
   "metadata": {},
   "source": [
    " "
   ]
  },
  {
   "cell_type": "markdown",
   "metadata": {},
   "source": [
    "## RANDOM FOREST   "
   ]
  },
  {
   "cell_type": "markdown",
   "metadata": {},
   "source": [
    "#### original data\n",
    "##### with speechiness"
   ]
  },
  {
   "cell_type": "code",
   "execution_count": 54,
   "metadata": {},
   "outputs": [
    {
     "name": "stdout",
     "output_type": "stream",
     "text": [
      "Fitting 5 folds for each of 10 candidates, totalling 50 fits\n",
      "{'random_state': 2000, 'n_estimators': 600, 'max_features': 'sqrt', 'max_depth': 14}\n",
      "RandomForestClassifier(max_depth=14, n_estimators=600, random_state=2000)\n",
      "0.8556547254888631\n"
     ]
    },
    {
     "data": {
      "text/html": [
       "<div>\n",
       "<style scoped>\n",
       "    .dataframe tbody tr th:only-of-type {\n",
       "        vertical-align: middle;\n",
       "    }\n",
       "\n",
       "    .dataframe tbody tr th {\n",
       "        vertical-align: top;\n",
       "    }\n",
       "\n",
       "    .dataframe thead th {\n",
       "        text-align: right;\n",
       "    }\n",
       "</style>\n",
       "<table border=\"1\" class=\"dataframe\">\n",
       "  <thead>\n",
       "    <tr style=\"text-align: right;\">\n",
       "      <th></th>\n",
       "      <th>params</th>\n",
       "      <th>mean_test_score</th>\n",
       "      <th>rank_test_score</th>\n",
       "    </tr>\n",
       "  </thead>\n",
       "  <tbody>\n",
       "    <tr>\n",
       "      <th>0</th>\n",
       "      <td>{'random_state': 2000, 'n_estimators': 600, 'max_features': 'sqrt', 'max_depth': 14}</td>\n",
       "      <td>0.855655</td>\n",
       "      <td>1</td>\n",
       "    </tr>\n",
       "    <tr>\n",
       "      <th>9</th>\n",
       "      <td>{'random_state': 2000, 'n_estimators': 400, 'max_features': 'sqrt', 'max_depth': 10}</td>\n",
       "      <td>0.853526</td>\n",
       "      <td>2</td>\n",
       "    </tr>\n",
       "    <tr>\n",
       "      <th>4</th>\n",
       "      <td>{'random_state': 2000, 'n_estimators': 700, 'max_features': 'sqrt', 'max_depth': 12}</td>\n",
       "      <td>0.853314</td>\n",
       "      <td>3</td>\n",
       "    </tr>\n",
       "    <tr>\n",
       "      <th>8</th>\n",
       "      <td>{'random_state': 2000, 'n_estimators': 700, 'max_features': 'sqrt', 'max_depth': 11}</td>\n",
       "      <td>0.852889</td>\n",
       "      <td>4</td>\n",
       "    </tr>\n",
       "    <tr>\n",
       "      <th>5</th>\n",
       "      <td>{'random_state': 2000, 'n_estimators': 100, 'max_features': 'sqrt', 'max_depth': 12}</td>\n",
       "      <td>0.851610</td>\n",
       "      <td>5</td>\n",
       "    </tr>\n",
       "    <tr>\n",
       "      <th>3</th>\n",
       "      <td>{'random_state': 2000, 'n_estimators': 700, 'max_features': 'sqrt', 'max_depth': 8}</td>\n",
       "      <td>0.848629</td>\n",
       "      <td>6</td>\n",
       "    </tr>\n",
       "    <tr>\n",
       "      <th>1</th>\n",
       "      <td>{'random_state': 2000, 'n_estimators': 500, 'max_features': 'sqrt', 'max_depth': 8}</td>\n",
       "      <td>0.847565</td>\n",
       "      <td>7</td>\n",
       "    </tr>\n",
       "    <tr>\n",
       "      <th>7</th>\n",
       "      <td>{'random_state': 2000, 'n_estimators': 300, 'max_features': 'sqrt', 'max_depth': 8}</td>\n",
       "      <td>0.847353</td>\n",
       "      <td>8</td>\n",
       "    </tr>\n",
       "    <tr>\n",
       "      <th>6</th>\n",
       "      <td>{'random_state': 2000, 'n_estimators': 800, 'max_features': 'sqrt', 'max_depth': 7}</td>\n",
       "      <td>0.846074</td>\n",
       "      <td>9</td>\n",
       "    </tr>\n",
       "    <tr>\n",
       "      <th>2</th>\n",
       "      <td>{'random_state': 2000, 'n_estimators': 100, 'max_features': 'sqrt', 'max_depth': 7}</td>\n",
       "      <td>0.843733</td>\n",
       "      <td>10</td>\n",
       "    </tr>\n",
       "  </tbody>\n",
       "</table>\n",
       "</div>"
      ],
      "text/plain": [
       "                                                                                 params  \\\n",
       "0  {'random_state': 2000, 'n_estimators': 600, 'max_features': 'sqrt', 'max_depth': 14}   \n",
       "9  {'random_state': 2000, 'n_estimators': 400, 'max_features': 'sqrt', 'max_depth': 10}   \n",
       "4  {'random_state': 2000, 'n_estimators': 700, 'max_features': 'sqrt', 'max_depth': 12}   \n",
       "8  {'random_state': 2000, 'n_estimators': 700, 'max_features': 'sqrt', 'max_depth': 11}   \n",
       "5  {'random_state': 2000, 'n_estimators': 100, 'max_features': 'sqrt', 'max_depth': 12}   \n",
       "3   {'random_state': 2000, 'n_estimators': 700, 'max_features': 'sqrt', 'max_depth': 8}   \n",
       "1   {'random_state': 2000, 'n_estimators': 500, 'max_features': 'sqrt', 'max_depth': 8}   \n",
       "7   {'random_state': 2000, 'n_estimators': 300, 'max_features': 'sqrt', 'max_depth': 8}   \n",
       "6   {'random_state': 2000, 'n_estimators': 800, 'max_features': 'sqrt', 'max_depth': 7}   \n",
       "2   {'random_state': 2000, 'n_estimators': 100, 'max_features': 'sqrt', 'max_depth': 7}   \n",
       "\n",
       "   mean_test_score  rank_test_score  \n",
       "0         0.855655                1  \n",
       "9         0.853526                2  \n",
       "4         0.853314                3  \n",
       "8         0.852889                4  \n",
       "5         0.851610                5  \n",
       "3         0.848629                6  \n",
       "1         0.847565                7  \n",
       "7         0.847353                8  \n",
       "6         0.846074                9  \n",
       "2         0.843733               10  "
      ]
     },
     "execution_count": 54,
     "metadata": {},
     "output_type": "execute_result"
    }
   ],
   "source": [
    "from sklearn.ensemble import RandomForestClassifier\n",
    "param_grid = {'n_estimators': [i for i in range(100,1000,100)], 'max_features': [\"sqrt\"], 'max_depth': [i for i in range(5,15,1)], 'random_state' : [2000]}\n",
    "\n",
    "rand_search = RandomizedSearchCV(RandomForestClassifier(), param_grid, cv = 5, random_state = 2000, verbose = 1, scoring = \"accuracy\", n_jobs = -1)\n",
    "rand_search.fit(X_train_org, y_train_org)\n",
    "print(rand_search.best_params_)\n",
    "print(rand_search.best_estimator_)\n",
    "print(rand_search.best_score_)\n",
    "\n",
    "results_rf = pd.DataFrame(rand_search.cv_results_)[['params','mean_test_score','rank_test_score']]\n",
    "pd.set_option('display.max_colwidth', None)\n",
    "results_rf.sort_values('rank_test_score')\n"
   ]
  },
  {
   "cell_type": "code",
   "execution_count": 55,
   "metadata": {},
   "outputs": [
    {
     "name": "stdout",
     "output_type": "stream",
     "text": [
      "CV results_rf_org: [0.83404255 0.83829787 0.85957447 0.85106383 0.84468085 0.8893617\n",
      " 0.84042553 0.88272921 0.84648188 0.86140725]\n",
      "CV score: 0.8548 +/- 0.0177\n"
     ]
    }
   ],
   "source": [
    "random_forest_org = RandomForestClassifier(n_estimators=600, max_features='sqrt', max_depth=14, random_state = 2000)\n",
    "params.append(random_forest_org.get_params)\n",
    "random_forest_org.fit(X_train_org, y_train_org)\n",
    "y_pred_rf_org = random_forest_org.predict(X_test_org)\n",
    "cv_results_rf_org = cross_val_score(random_forest_org, X_train_org, y_train_org, cv=kf)\n",
    "models.append('RandomForest_org: n_estimators:600, max_features:\"sqrt\", max_depth:14, random_state:2000')\n",
    "stdevs.append(np.std(cv_results_rf_org))\n",
    "print('CV results_rf_org:', cv_results_rf_org)\n",
    "print('CV score: %.4f +/- %.4f' % (np.mean(cv_results_rf_org), np.std(cv_results_rf_org))) "
   ]
  },
  {
   "cell_type": "code",
   "execution_count": 56,
   "metadata": {},
   "outputs": [
    {
     "name": "stdout",
     "output_type": "stream",
     "text": [
      "              precision    recall  f1-score   support\n",
      "\n",
      "           0       0.89      0.81      0.85       584\n",
      "           1       0.83      0.90      0.86       591\n",
      "\n",
      "    accuracy                           0.85      1175\n",
      "   macro avg       0.86      0.85      0.85      1175\n",
      "weighted avg       0.86      0.85      0.85      1175\n",
      "\n"
     ]
    }
   ],
   "source": [
    "print(classification_report(y_test_org, y_pred_rf_org))"
   ]
  },
  {
   "cell_type": "markdown",
   "metadata": {},
   "source": [
    "#### ordinal data\n",
    "##### with speechinessBin"
   ]
  },
  {
   "cell_type": "code",
   "execution_count": 57,
   "metadata": {},
   "outputs": [
    {
     "name": "stdout",
     "output_type": "stream",
     "text": [
      "Fitting 5 folds for each of 10 candidates, totalling 50 fits\n",
      "{'random_state': 2000, 'n_estimators': 700, 'max_features': 'sqrt', 'max_depth': 12}\n",
      "RandomForestClassifier(max_depth=12, n_estimators=700, random_state=2000)\n",
      "0.8554426392948586\n"
     ]
    },
    {
     "data": {
      "text/html": [
       "<div>\n",
       "<style scoped>\n",
       "    .dataframe tbody tr th:only-of-type {\n",
       "        vertical-align: middle;\n",
       "    }\n",
       "\n",
       "    .dataframe tbody tr th {\n",
       "        vertical-align: top;\n",
       "    }\n",
       "\n",
       "    .dataframe thead th {\n",
       "        text-align: right;\n",
       "    }\n",
       "</style>\n",
       "<table border=\"1\" class=\"dataframe\">\n",
       "  <thead>\n",
       "    <tr style=\"text-align: right;\">\n",
       "      <th></th>\n",
       "      <th>params</th>\n",
       "      <th>mean_test_score</th>\n",
       "      <th>rank_test_score</th>\n",
       "    </tr>\n",
       "  </thead>\n",
       "  <tbody>\n",
       "    <tr>\n",
       "      <th>4</th>\n",
       "      <td>{'random_state': 2000, 'n_estimators': 700, 'max_features': 'sqrt', 'max_depth': 12}</td>\n",
       "      <td>0.855443</td>\n",
       "      <td>1</td>\n",
       "    </tr>\n",
       "    <tr>\n",
       "      <th>0</th>\n",
       "      <td>{'random_state': 2000, 'n_estimators': 600, 'max_features': 'sqrt', 'max_depth': 14}</td>\n",
       "      <td>0.853953</td>\n",
       "      <td>2</td>\n",
       "    </tr>\n",
       "    <tr>\n",
       "      <th>9</th>\n",
       "      <td>{'random_state': 2000, 'n_estimators': 400, 'max_features': 'sqrt', 'max_depth': 10}</td>\n",
       "      <td>0.852037</td>\n",
       "      <td>3</td>\n",
       "    </tr>\n",
       "    <tr>\n",
       "      <th>8</th>\n",
       "      <td>{'random_state': 2000, 'n_estimators': 700, 'max_features': 'sqrt', 'max_depth': 11}</td>\n",
       "      <td>0.851398</td>\n",
       "      <td>4</td>\n",
       "    </tr>\n",
       "    <tr>\n",
       "      <th>5</th>\n",
       "      <td>{'random_state': 2000, 'n_estimators': 100, 'max_features': 'sqrt', 'max_depth': 12}</td>\n",
       "      <td>0.850333</td>\n",
       "      <td>5</td>\n",
       "    </tr>\n",
       "    <tr>\n",
       "      <th>7</th>\n",
       "      <td>{'random_state': 2000, 'n_estimators': 300, 'max_features': 'sqrt', 'max_depth': 8}</td>\n",
       "      <td>0.848418</td>\n",
       "      <td>6</td>\n",
       "    </tr>\n",
       "    <tr>\n",
       "      <th>1</th>\n",
       "      <td>{'random_state': 2000, 'n_estimators': 500, 'max_features': 'sqrt', 'max_depth': 8}</td>\n",
       "      <td>0.848205</td>\n",
       "      <td>7</td>\n",
       "    </tr>\n",
       "    <tr>\n",
       "      <th>3</th>\n",
       "      <td>{'random_state': 2000, 'n_estimators': 700, 'max_features': 'sqrt', 'max_depth': 8}</td>\n",
       "      <td>0.846501</td>\n",
       "      <td>8</td>\n",
       "    </tr>\n",
       "    <tr>\n",
       "      <th>2</th>\n",
       "      <td>{'random_state': 2000, 'n_estimators': 100, 'max_features': 'sqrt', 'max_depth': 7}</td>\n",
       "      <td>0.846075</td>\n",
       "      <td>9</td>\n",
       "    </tr>\n",
       "    <tr>\n",
       "      <th>6</th>\n",
       "      <td>{'random_state': 2000, 'n_estimators': 800, 'max_features': 'sqrt', 'max_depth': 7}</td>\n",
       "      <td>0.845223</td>\n",
       "      <td>10</td>\n",
       "    </tr>\n",
       "  </tbody>\n",
       "</table>\n",
       "</div>"
      ],
      "text/plain": [
       "                                                                                 params  \\\n",
       "4  {'random_state': 2000, 'n_estimators': 700, 'max_features': 'sqrt', 'max_depth': 12}   \n",
       "0  {'random_state': 2000, 'n_estimators': 600, 'max_features': 'sqrt', 'max_depth': 14}   \n",
       "9  {'random_state': 2000, 'n_estimators': 400, 'max_features': 'sqrt', 'max_depth': 10}   \n",
       "8  {'random_state': 2000, 'n_estimators': 700, 'max_features': 'sqrt', 'max_depth': 11}   \n",
       "5  {'random_state': 2000, 'n_estimators': 100, 'max_features': 'sqrt', 'max_depth': 12}   \n",
       "7   {'random_state': 2000, 'n_estimators': 300, 'max_features': 'sqrt', 'max_depth': 8}   \n",
       "1   {'random_state': 2000, 'n_estimators': 500, 'max_features': 'sqrt', 'max_depth': 8}   \n",
       "3   {'random_state': 2000, 'n_estimators': 700, 'max_features': 'sqrt', 'max_depth': 8}   \n",
       "2   {'random_state': 2000, 'n_estimators': 100, 'max_features': 'sqrt', 'max_depth': 7}   \n",
       "6   {'random_state': 2000, 'n_estimators': 800, 'max_features': 'sqrt', 'max_depth': 7}   \n",
       "\n",
       "   mean_test_score  rank_test_score  \n",
       "4         0.855443                1  \n",
       "0         0.853953                2  \n",
       "9         0.852037                3  \n",
       "8         0.851398                4  \n",
       "5         0.850333                5  \n",
       "7         0.848418                6  \n",
       "1         0.848205                7  \n",
       "3         0.846501                8  \n",
       "2         0.846075                9  \n",
       "6         0.845223               10  "
      ]
     },
     "execution_count": 57,
     "metadata": {},
     "output_type": "execute_result"
    }
   ],
   "source": [
    "param_grid = {'n_estimators': [i for i in range(100,1000,100)], 'max_features': [\"sqrt\"], 'max_depth': [i for i in range(5,15,1)], 'random_state' : [2000]}\n",
    "\n",
    "rand_search = RandomizedSearchCV(RandomForestClassifier(), param_grid, cv = 5, random_state = 2000, verbose = 1, scoring = \"accuracy\", n_jobs = -1)\n",
    "rand_search.fit(X_train_ord, y_train_ord)\n",
    "print(rand_search.best_params_)\n",
    "print(rand_search.best_estimator_)\n",
    "print(rand_search.best_score_)\n",
    "\n",
    "results_rf_ord = pd.DataFrame(rand_search.cv_results_)[['params','mean_test_score','rank_test_score']]\n",
    "pd.set_option('display.max_colwidth', None)\n",
    "results_rf_ord.sort_values('rank_test_score')\n"
   ]
  },
  {
   "cell_type": "code",
   "execution_count": 58,
   "metadata": {},
   "outputs": [
    {
     "name": "stdout",
     "output_type": "stream",
     "text": [
      "CV results_rf_ord: [0.83404255 0.83617021 0.85957447 0.84680851 0.83829787 0.88723404\n",
      " 0.84255319 0.891258   0.84434968 0.86353945]\n",
      "CV score: 0.8544 +/- 0.0196\n"
     ]
    }
   ],
   "source": [
    "random_forest_ord = RandomForestClassifier(n_estimators=700, max_features='sqrt', max_depth=12, random_state = 2000)\n",
    "random_forest_ord.fit(X_train_ord, y_train_ord)\n",
    "params.append(random_forest_ord.get_params)\n",
    "y_pred_rf_ord = random_forest_org.predict(X_test_ord)\n",
    "cv_results_rf_ord = cross_val_score(random_forest_ord, X_train_ord, y_train_ord, cv=kf)\n",
    "models.append('RandomForest_ord: n_estimators:700, max_features:\"sqrt\", max_depth:12, random_state:2000')\n",
    "stdevs.append(np.std(cv_results_rf_ord))\n",
    "print('CV results_rf_ord:', cv_results_rf_ord)\n",
    "print('CV score: %.4f +/- %.4f' % (np.mean(cv_results_rf_ord), np.std(cv_results_rf_ord))) "
   ]
  },
  {
   "cell_type": "code",
   "execution_count": 59,
   "metadata": {},
   "outputs": [
    {
     "name": "stdout",
     "output_type": "stream",
     "text": [
      "              precision    recall  f1-score   support\n",
      "\n",
      "           0       0.87      0.82      0.84       584\n",
      "           1       0.83      0.87      0.85       591\n",
      "\n",
      "    accuracy                           0.85      1175\n",
      "   macro avg       0.85      0.85      0.85      1175\n",
      "weighted avg       0.85      0.85      0.85      1175\n",
      "\n"
     ]
    }
   ],
   "source": [
    "print(classification_report(y_test_ord, y_pred_rf_ord))"
   ]
  },
  {
   "cell_type": "markdown",
   "metadata": {},
   "source": [
    "slight decrease with binning"
   ]
  },
  {
   "cell_type": "markdown",
   "metadata": {},
   "source": [
    "#### dimension reduced data"
   ]
  },
  {
   "cell_type": "code",
   "execution_count": 60,
   "metadata": {},
   "outputs": [
    {
     "name": "stdout",
     "output_type": "stream",
     "text": [
      "Fitting 5 folds for each of 10 candidates, totalling 50 fits\n",
      "{'random_state': 2000, 'n_estimators': 600, 'max_features': 'sqrt', 'max_depth': 14}\n",
      "RandomForestClassifier(max_depth=14, n_estimators=600, random_state=2000)\n",
      "0.8428808374685609\n"
     ]
    },
    {
     "data": {
      "text/html": [
       "<div>\n",
       "<style scoped>\n",
       "    .dataframe tbody tr th:only-of-type {\n",
       "        vertical-align: middle;\n",
       "    }\n",
       "\n",
       "    .dataframe tbody tr th {\n",
       "        vertical-align: top;\n",
       "    }\n",
       "\n",
       "    .dataframe thead th {\n",
       "        text-align: right;\n",
       "    }\n",
       "</style>\n",
       "<table border=\"1\" class=\"dataframe\">\n",
       "  <thead>\n",
       "    <tr style=\"text-align: right;\">\n",
       "      <th></th>\n",
       "      <th>params</th>\n",
       "      <th>mean_test_score</th>\n",
       "      <th>rank_test_score</th>\n",
       "    </tr>\n",
       "  </thead>\n",
       "  <tbody>\n",
       "    <tr>\n",
       "      <th>0</th>\n",
       "      <td>{'random_state': 2000, 'n_estimators': 600, 'max_features': 'sqrt', 'max_depth': 14}</td>\n",
       "      <td>0.842881</td>\n",
       "      <td>1</td>\n",
       "    </tr>\n",
       "    <tr>\n",
       "      <th>4</th>\n",
       "      <td>{'random_state': 2000, 'n_estimators': 700, 'max_features': 'sqrt', 'max_depth': 12}</td>\n",
       "      <td>0.842455</td>\n",
       "      <td>2</td>\n",
       "    </tr>\n",
       "    <tr>\n",
       "      <th>9</th>\n",
       "      <td>{'random_state': 2000, 'n_estimators': 400, 'max_features': 'sqrt', 'max_depth': 10}</td>\n",
       "      <td>0.841817</td>\n",
       "      <td>3</td>\n",
       "    </tr>\n",
       "    <tr>\n",
       "      <th>8</th>\n",
       "      <td>{'random_state': 2000, 'n_estimators': 700, 'max_features': 'sqrt', 'max_depth': 11}</td>\n",
       "      <td>0.840540</td>\n",
       "      <td>4</td>\n",
       "    </tr>\n",
       "    <tr>\n",
       "      <th>5</th>\n",
       "      <td>{'random_state': 2000, 'n_estimators': 100, 'max_features': 'sqrt', 'max_depth': 12}</td>\n",
       "      <td>0.840538</td>\n",
       "      <td>5</td>\n",
       "    </tr>\n",
       "    <tr>\n",
       "      <th>1</th>\n",
       "      <td>{'random_state': 2000, 'n_estimators': 500, 'max_features': 'sqrt', 'max_depth': 8}</td>\n",
       "      <td>0.839902</td>\n",
       "      <td>6</td>\n",
       "    </tr>\n",
       "    <tr>\n",
       "      <th>3</th>\n",
       "      <td>{'random_state': 2000, 'n_estimators': 700, 'max_features': 'sqrt', 'max_depth': 8}</td>\n",
       "      <td>0.839049</td>\n",
       "      <td>7</td>\n",
       "    </tr>\n",
       "    <tr>\n",
       "      <th>7</th>\n",
       "      <td>{'random_state': 2000, 'n_estimators': 300, 'max_features': 'sqrt', 'max_depth': 8}</td>\n",
       "      <td>0.837348</td>\n",
       "      <td>8</td>\n",
       "    </tr>\n",
       "    <tr>\n",
       "      <th>2</th>\n",
       "      <td>{'random_state': 2000, 'n_estimators': 100, 'max_features': 'sqrt', 'max_depth': 7}</td>\n",
       "      <td>0.836710</td>\n",
       "      <td>9</td>\n",
       "    </tr>\n",
       "    <tr>\n",
       "      <th>6</th>\n",
       "      <td>{'random_state': 2000, 'n_estimators': 800, 'max_features': 'sqrt', 'max_depth': 7}</td>\n",
       "      <td>0.836709</td>\n",
       "      <td>10</td>\n",
       "    </tr>\n",
       "  </tbody>\n",
       "</table>\n",
       "</div>"
      ],
      "text/plain": [
       "                                                                                 params  \\\n",
       "0  {'random_state': 2000, 'n_estimators': 600, 'max_features': 'sqrt', 'max_depth': 14}   \n",
       "4  {'random_state': 2000, 'n_estimators': 700, 'max_features': 'sqrt', 'max_depth': 12}   \n",
       "9  {'random_state': 2000, 'n_estimators': 400, 'max_features': 'sqrt', 'max_depth': 10}   \n",
       "8  {'random_state': 2000, 'n_estimators': 700, 'max_features': 'sqrt', 'max_depth': 11}   \n",
       "5  {'random_state': 2000, 'n_estimators': 100, 'max_features': 'sqrt', 'max_depth': 12}   \n",
       "1   {'random_state': 2000, 'n_estimators': 500, 'max_features': 'sqrt', 'max_depth': 8}   \n",
       "3   {'random_state': 2000, 'n_estimators': 700, 'max_features': 'sqrt', 'max_depth': 8}   \n",
       "7   {'random_state': 2000, 'n_estimators': 300, 'max_features': 'sqrt', 'max_depth': 8}   \n",
       "2   {'random_state': 2000, 'n_estimators': 100, 'max_features': 'sqrt', 'max_depth': 7}   \n",
       "6   {'random_state': 2000, 'n_estimators': 800, 'max_features': 'sqrt', 'max_depth': 7}   \n",
       "\n",
       "   mean_test_score  rank_test_score  \n",
       "0         0.842881                1  \n",
       "4         0.842455                2  \n",
       "9         0.841817                3  \n",
       "8         0.840540                4  \n",
       "5         0.840538                5  \n",
       "1         0.839902                6  \n",
       "3         0.839049                7  \n",
       "7         0.837348                8  \n",
       "2         0.836710                9  \n",
       "6         0.836709               10  "
      ]
     },
     "execution_count": 60,
     "metadata": {},
     "output_type": "execute_result"
    }
   ],
   "source": [
    "param_grid = {'n_estimators': [i for i in range(100,1000,100)], 'max_features': [\"sqrt\"], 'max_depth': [i for i in range(5,15,1)], 'random_state' : [2000]}\n",
    "\n",
    "rand_search = RandomizedSearchCV(RandomForestClassifier(), param_grid, cv = 5, random_state = 2000, verbose = 1, scoring = \"accuracy\", n_jobs = -1)\n",
    "rand_search.fit(X_train_dim_red, y_train_dim_red)\n",
    "print(rand_search.best_params_)\n",
    "print(rand_search.best_estimator_)\n",
    "print(rand_search.best_score_)\n",
    "\n",
    "results_rf_dim_red = pd.DataFrame(rand_search.cv_results_)[['params','mean_test_score','rank_test_score']]\n",
    "pd.set_option('display.max_colwidth', None)\n",
    "results_rf_dim_red.sort_values('rank_test_score')\n",
    "\n"
   ]
  },
  {
   "cell_type": "code",
   "execution_count": 61,
   "metadata": {},
   "outputs": [
    {
     "name": "stdout",
     "output_type": "stream",
     "text": [
      "CV results_rf_dim_red: [0.82765957 0.8212766  0.83404255 0.83617021 0.81702128 0.88085106\n",
      " 0.84042553 0.87420043 0.83795309 0.84434968]\n",
      "CV score: 0.8414 +/- 0.0198\n"
     ]
    }
   ],
   "source": [
    "random_forest_dim_red = RandomForestClassifier(n_estimators=600, max_features='sqrt', max_depth=14, random_state = 2000)\n",
    "random_forest_dim_red.fit(X_train_dim_red, y_train_dim_red)\n",
    "y_pred_rf_dim_red = random_forest_dim_red.predict(X_test_dim_red)\n",
    "params.append(random_forest_dim_red.get_params)\n",
    "cv_results_rf_dim_red = cross_val_score(random_forest_dim_red, X_train_dim_red, y_train_dim_red, cv=kf)\n",
    "models.append('RandomForest_dim_red: n_estimators:600, max_features:\"sqrt\", max_depth:14, random_state:2000')\n",
    "stdevs.append(np.std(cv_results_rf_dim_red))\n",
    "print('CV results_rf_dim_red:', cv_results_rf_dim_red)\n",
    "print('CV score: %.4f +/- %.4f' % (np.mean(cv_results_rf_dim_red), np.std(cv_results_rf_dim_red))) "
   ]
  },
  {
   "cell_type": "markdown",
   "metadata": {},
   "source": [
    "#### pca data"
   ]
  },
  {
   "cell_type": "code",
   "execution_count": 62,
   "metadata": {},
   "outputs": [
    {
     "name": "stdout",
     "output_type": "stream",
     "text": [
      "Fitting 5 folds for each of 10 candidates, totalling 50 fits\n",
      "{'random_state': 2000, 'n_estimators': 100, 'max_features': 'sqrt', 'max_depth': 7}\n",
      "RandomForestClassifier(max_depth=7, random_state=2000)\n",
      "0.7721979017968413\n"
     ]
    },
    {
     "data": {
      "text/html": [
       "<div>\n",
       "<style scoped>\n",
       "    .dataframe tbody tr th:only-of-type {\n",
       "        vertical-align: middle;\n",
       "    }\n",
       "\n",
       "    .dataframe tbody tr th {\n",
       "        vertical-align: top;\n",
       "    }\n",
       "\n",
       "    .dataframe thead th {\n",
       "        text-align: right;\n",
       "    }\n",
       "</style>\n",
       "<table border=\"1\" class=\"dataframe\">\n",
       "  <thead>\n",
       "    <tr style=\"text-align: right;\">\n",
       "      <th></th>\n",
       "      <th>params</th>\n",
       "      <th>mean_test_score</th>\n",
       "      <th>rank_test_score</th>\n",
       "    </tr>\n",
       "  </thead>\n",
       "  <tbody>\n",
       "    <tr>\n",
       "      <th>2</th>\n",
       "      <td>{'random_state': 2000, 'n_estimators': 100, 'max_features': 'sqrt', 'max_depth': 7}</td>\n",
       "      <td>0.772198</td>\n",
       "      <td>1</td>\n",
       "    </tr>\n",
       "    <tr>\n",
       "      <th>9</th>\n",
       "      <td>{'random_state': 2000, 'n_estimators': 400, 'max_features': 'sqrt', 'max_depth': 10}</td>\n",
       "      <td>0.771985</td>\n",
       "      <td>2</td>\n",
       "    </tr>\n",
       "    <tr>\n",
       "      <th>7</th>\n",
       "      <td>{'random_state': 2000, 'n_estimators': 300, 'max_features': 'sqrt', 'max_depth': 8}</td>\n",
       "      <td>0.771985</td>\n",
       "      <td>3</td>\n",
       "    </tr>\n",
       "    <tr>\n",
       "      <th>3</th>\n",
       "      <td>{'random_state': 2000, 'n_estimators': 700, 'max_features': 'sqrt', 'max_depth': 8}</td>\n",
       "      <td>0.771772</td>\n",
       "      <td>4</td>\n",
       "    </tr>\n",
       "    <tr>\n",
       "      <th>6</th>\n",
       "      <td>{'random_state': 2000, 'n_estimators': 800, 'max_features': 'sqrt', 'max_depth': 7}</td>\n",
       "      <td>0.771771</td>\n",
       "      <td>5</td>\n",
       "    </tr>\n",
       "    <tr>\n",
       "      <th>1</th>\n",
       "      <td>{'random_state': 2000, 'n_estimators': 500, 'max_features': 'sqrt', 'max_depth': 8}</td>\n",
       "      <td>0.771771</td>\n",
       "      <td>6</td>\n",
       "    </tr>\n",
       "    <tr>\n",
       "      <th>8</th>\n",
       "      <td>{'random_state': 2000, 'n_estimators': 700, 'max_features': 'sqrt', 'max_depth': 11}</td>\n",
       "      <td>0.771560</td>\n",
       "      <td>7</td>\n",
       "    </tr>\n",
       "    <tr>\n",
       "      <th>4</th>\n",
       "      <td>{'random_state': 2000, 'n_estimators': 700, 'max_features': 'sqrt', 'max_depth': 12}</td>\n",
       "      <td>0.771133</td>\n",
       "      <td>8</td>\n",
       "    </tr>\n",
       "    <tr>\n",
       "      <th>0</th>\n",
       "      <td>{'random_state': 2000, 'n_estimators': 600, 'max_features': 'sqrt', 'max_depth': 14}</td>\n",
       "      <td>0.770494</td>\n",
       "      <td>9</td>\n",
       "    </tr>\n",
       "    <tr>\n",
       "      <th>5</th>\n",
       "      <td>{'random_state': 2000, 'n_estimators': 100, 'max_features': 'sqrt', 'max_depth': 12}</td>\n",
       "      <td>0.768792</td>\n",
       "      <td>10</td>\n",
       "    </tr>\n",
       "  </tbody>\n",
       "</table>\n",
       "</div>"
      ],
      "text/plain": [
       "                                                                                 params  \\\n",
       "2   {'random_state': 2000, 'n_estimators': 100, 'max_features': 'sqrt', 'max_depth': 7}   \n",
       "9  {'random_state': 2000, 'n_estimators': 400, 'max_features': 'sqrt', 'max_depth': 10}   \n",
       "7   {'random_state': 2000, 'n_estimators': 300, 'max_features': 'sqrt', 'max_depth': 8}   \n",
       "3   {'random_state': 2000, 'n_estimators': 700, 'max_features': 'sqrt', 'max_depth': 8}   \n",
       "6   {'random_state': 2000, 'n_estimators': 800, 'max_features': 'sqrt', 'max_depth': 7}   \n",
       "1   {'random_state': 2000, 'n_estimators': 500, 'max_features': 'sqrt', 'max_depth': 8}   \n",
       "8  {'random_state': 2000, 'n_estimators': 700, 'max_features': 'sqrt', 'max_depth': 11}   \n",
       "4  {'random_state': 2000, 'n_estimators': 700, 'max_features': 'sqrt', 'max_depth': 12}   \n",
       "0  {'random_state': 2000, 'n_estimators': 600, 'max_features': 'sqrt', 'max_depth': 14}   \n",
       "5  {'random_state': 2000, 'n_estimators': 100, 'max_features': 'sqrt', 'max_depth': 12}   \n",
       "\n",
       "   mean_test_score  rank_test_score  \n",
       "2         0.772198                1  \n",
       "9         0.771985                2  \n",
       "7         0.771985                3  \n",
       "3         0.771772                4  \n",
       "6         0.771771                5  \n",
       "1         0.771771                6  \n",
       "8         0.771560                7  \n",
       "4         0.771133                8  \n",
       "0         0.770494                9  \n",
       "5         0.768792               10  "
      ]
     },
     "execution_count": 62,
     "metadata": {},
     "output_type": "execute_result"
    }
   ],
   "source": [
    "param_grid = {'n_estimators': [i for i in range(100,1000,100)], 'max_features': [\"sqrt\"], 'max_depth': [i for i in range(5,15,1)], 'random_state' : [2000]}\n",
    "\n",
    "rand_search = RandomizedSearchCV(RandomForestClassifier(), param_grid, cv = 5, random_state = 2000, verbose = 1, scoring = \"accuracy\", n_jobs = -1)\n",
    "rand_search.fit(principal_x_train, principal_y_train)\n",
    "print(rand_search.best_params_)\n",
    "print(rand_search.best_estimator_)\n",
    "print(rand_search.best_score_)\n",
    "\n",
    "results_rf_pca_org = pd.DataFrame(rand_search.cv_results_)[['params','mean_test_score','rank_test_score']]\n",
    "pd.set_option('display.max_colwidth', None)\n",
    "results_rf_pca_org.sort_values('rank_test_score')\n",
    "\n"
   ]
  },
  {
   "cell_type": "code",
   "execution_count": 63,
   "metadata": {},
   "outputs": [
    {
     "name": "stdout",
     "output_type": "stream",
     "text": [
      "CV results_rf_pca_org: [0.76808511 0.78723404 0.76382979 0.76595745 0.78085106 0.76382979\n",
      " 0.78510638 0.76972281 0.80170576 0.78251599]\n",
      "CV score: 0.7769 +/- 0.0119\n"
     ]
    }
   ],
   "source": [
    "random_forest_pca_org = RandomForestClassifier(n_estimators=100, max_features='sqrt', max_depth=7, random_state = 2000)\n",
    "random_forest_pca_org.fit(principal_x_train, principal_y_train)\n",
    "params.append(random_forest_pca_org.get_params)\n",
    "y_pred_rf_pca_org = random_forest_pca_org.predict(principal_x_test)\n",
    "cv_results_rf_pca_org = cross_val_score(random_forest_pca_org, principal_x_train, principal_y_train, cv=kf)\n",
    "models.append('RandomForest_pca: n_estimators:100, max_features:\"sqrt\", max_depth:7, random_state:2000')\n",
    "stdevs.append(np.std(cv_results_rf_pca_org))\n",
    "print('CV results_rf_pca_org:', cv_results_rf_pca_org)\n",
    "print('CV score: %.4f +/- %.4f' % (np.mean(cv_results_rf_pca_org), np.std(cv_results_rf_pca_org))) "
   ]
  },
  {
   "cell_type": "code",
   "execution_count": 64,
   "metadata": {},
   "outputs": [
    {
     "name": "stdout",
     "output_type": "stream",
     "text": [
      "              precision    recall  f1-score   support\n",
      "\n",
      "           0       0.81      0.70      0.75       596\n",
      "           1       0.73      0.83      0.78       579\n",
      "\n",
      "    accuracy                           0.77      1175\n",
      "   macro avg       0.77      0.77      0.76      1175\n",
      "weighted avg       0.77      0.77      0.76      1175\n",
      "\n"
     ]
    }
   ],
   "source": [
    "print(classification_report(principal_y_test, y_pred_rf_pca_org))"
   ]
  },
  {
   "cell_type": "code",
   "execution_count": 65,
   "metadata": {},
   "outputs": [
    {
     "data": {
      "text/plain": [
       "<matplotlib.legend.Legend at 0x7f8840837820>"
      ]
     },
     "execution_count": 65,
     "metadata": {},
     "output_type": "execute_result"
    },
    {
     "data": {
      "text/plain": [
       "<Figure size 2000x1600 with 0 Axes>"
      ]
     },
     "metadata": {},
     "output_type": "display_data"
    },
    {
     "data": {
      "image/png": "[encoded data removed]",
      "text/plain": [
       "<Figure size 640x480 with 1 Axes>"
      ]
     },
     "metadata": {},
     "output_type": "display_data"
    }
   ],
   "source": [
    "plt.figure(figsize=(20, 16))\n",
    "plt.figure(0).clf()\n",
    "\n",
    "fpr, tpr, _ = roc_curve(y_test_org, y_pred_rf_org)\n",
    "auc = round(roc_auc_score(y_test_org, y_pred_rf_org), 4)\n",
    "plt.plot(fpr,tpr,label=\"RandomForest on dataset1, AUC=\"+str(auc))\n",
    "\n",
    "fpr, tpr, _ = roc_curve(y_test_ord, y_pred_rf_ord)\n",
    "auc = round(roc_auc_score(y_test_ord, y_pred_rf_ord), 4)\n",
    "plt.plot(fpr,tpr,label=\"RandomForest on dataset2, AUC=\"+str(auc))\n",
    "\n",
    "fpr, tpr, _ = roc_curve(y_test_dim_red, y_pred_rf_dim_red)\n",
    "auc = round(roc_auc_score(y_test_dim_red, y_pred_rf_dim_red), 4)\n",
    "plt.plot(fpr,tpr,label=\"RandomForest on dataset3, AUC=\"+str(auc))\n",
    "\n",
    "fpr, tpr, _ = roc_curve(principal_y_test, y_pred_rf_pca_org)\n",
    "auc = round(roc_auc_score(principal_y_test, y_pred_rf_pca_org), 4)\n",
    "plt.plot(fpr,tpr,label=\"RandomForest on dataset4, AUC=\"+str(auc))\n",
    "\n",
    "#add legend\n",
    "plt.legend()"
   ]
  },
  {
   "cell_type": "markdown",
   "metadata": {},
   "source": [
    "# RESULTS"
   ]
  },
  {
   "cell_type": "code",
   "execution_count": 66,
   "metadata": {},
   "outputs": [
    {
     "name": "stdout",
     "output_type": "stream",
     "text": [
      "knn_original:  [0.766  0.7426 0.7255 0.7851 0.7511 0.834  0.8    0.7974 0.7527 0.7612]\n",
      "knn_ordinal:  [0.7574 0.7404 0.7213 0.7766 0.7447 0.817  0.8021 0.791  0.7441 0.7527]\n",
      "knn_dimension_reduced:  [0.7532 0.7319 0.7234 0.7745 0.7277 0.8    0.7957 0.7804 0.7335 0.7569]\n",
      "knn_original_pca:  [0.7553 0.7766 0.7404 0.7383 0.7638 0.7426 0.7723 0.7569 0.7783 0.7633]\n",
      "random_forest_original:  [0.834  0.8383 0.8596 0.8511 0.8447 0.8894 0.8404 0.8827 0.8465 0.8614]\n",
      "random_forest_ordinal:  [0.834  0.8362 0.8596 0.8468 0.8383 0.8872 0.8426 0.8913 0.8443 0.8635]\n",
      "random_forest_pca:  [0.7681 0.7872 0.7638 0.766  0.7809 0.7638 0.7851 0.7697 0.8017 0.7825]\n"
     ]
    }
   ],
   "source": [
    "print(\"knn_original: \", np.round(cv_results_knn_org,4))\n",
    "print(\"knn_ordinal: \", np.round(cv_results_knn_ord,4))\n",
    "print(\"knn_dimension_reduced: \", np.round(cv_results_knn_dim_red,4))\n",
    "print(\"knn_original_pca: \", np.round(cv_results_knn_pca_org,4))\n",
    "print(\"random_forest_original: \",np.round(cv_results_rf_org,4))\n",
    "print(\"random_forest_ordinal: \",np.round(cv_results_rf_ord,4))\n",
    "print(\"random_forest_pca: \", np.round(cv_results_rf_pca_org,4))"
   ]
  },
  {
   "cell_type": "code",
   "execution_count": 67,
   "metadata": {},
   "outputs": [],
   "source": [
    "results = []\n",
    "accuracy = []\n",
    "accuracy.append ([(cv_results_baseline).mean(), (cv_results_knn_org).mean(), (cv_results_knn_ord).mean(),(cv_results_knn_dim_red).mean(), (cv_results_knn_pca_org).mean(), (cv_results_rf_org).mean(), (cv_results_rf_ord).mean(),(cv_results_rf_dim_red).mean(), (cv_results_rf_pca_org).mean()])"
   ]
  },
  {
   "cell_type": "code",
   "execution_count": 68,
   "metadata": {},
   "outputs": [
    {
     "data": {
      "text/plain": [
       "[[0.7834795626729575,\n",
       "  0.7715555958807786,\n",
       "  0.7647420949961438,\n",
       "  0.757717189130336,\n",
       "  0.7587869164814227,\n",
       "  0.8548065145397631,\n",
       "  0.8543827972599012,\n",
       "  0.8413950006804882,\n",
       "  0.7768838179921063]]"
      ]
     },
     "execution_count": 68,
     "metadata": {},
     "output_type": "execute_result"
    }
   ],
   "source": [
    "accuracy"
   ]
  },
  {
   "cell_type": "code",
   "execution_count": 71,
   "metadata": {},
   "outputs": [],
   "source": [
    "#models\n",
    "#stdevs"
   ]
  },
  {
   "cell_type": "code",
   "execution_count": 72,
   "metadata": {},
   "outputs": [],
   "source": [
    "models_df = pd.DataFrame(models)\n",
    "accuracies_df = np.transpose(pd.DataFrame(accuracy))\n",
    "stdevs_df = pd.DataFrame(stdevs)"
   ]
  },
  {
   "cell_type": "code",
   "execution_count": 73,
   "metadata": {},
   "outputs": [],
   "source": [
    "results= pd.DataFrame()\n",
    "results['Models'] = models_df\n",
    "results['Avg. Accuracies'] = accuracies_df\n",
    "results['Stdevs'] = stdevs_df\n",
    "#results = pd.concat([[models_df], [accuracies_df], [stdevs_df]])"
   ]
  },
  {
   "cell_type": "code",
   "execution_count": 74,
   "metadata": {},
   "outputs": [
    {
     "data": {
      "text/html": [
       "<div>\n",
       "<style scoped>\n",
       "    .dataframe tbody tr th:only-of-type {\n",
       "        vertical-align: middle;\n",
       "    }\n",
       "\n",
       "    .dataframe tbody tr th {\n",
       "        vertical-align: top;\n",
       "    }\n",
       "\n",
       "    .dataframe thead th {\n",
       "        text-align: right;\n",
       "    }\n",
       "</style>\n",
       "<table border=\"1\" class=\"dataframe\">\n",
       "  <thead>\n",
       "    <tr style=\"text-align: right;\">\n",
       "      <th></th>\n",
       "      <th>Models</th>\n",
       "      <th>Avg. Accuracies</th>\n",
       "      <th>Stdevs</th>\n",
       "    </tr>\n",
       "  </thead>\n",
       "  <tbody>\n",
       "    <tr>\n",
       "      <th>5</th>\n",
       "      <td>RandomForest_org: n_estimators:600, max_features:\"sqrt\", max_depth:14, random_state:2000</td>\n",
       "      <td>0.854807</td>\n",
       "      <td>0.017710</td>\n",
       "    </tr>\n",
       "    <tr>\n",
       "      <th>6</th>\n",
       "      <td>RandomForest_ord: n_estimators:700, max_features:\"sqrt\", max_depth:12, random_state:2000</td>\n",
       "      <td>0.854383</td>\n",
       "      <td>0.019626</td>\n",
       "    </tr>\n",
       "    <tr>\n",
       "      <th>7</th>\n",
       "      <td>RandomForest_dim_red: n_estimators:600, max_features:\"sqrt\", max_depth:14, random_state:2000</td>\n",
       "      <td>0.841395</td>\n",
       "      <td>0.019807</td>\n",
       "    </tr>\n",
       "    <tr>\n",
       "      <th>0</th>\n",
       "      <td>KNN_baseline: n_neighbors:78, others: default</td>\n",
       "      <td>0.783480</td>\n",
       "      <td>0.028243</td>\n",
       "    </tr>\n",
       "    <tr>\n",
       "      <th>8</th>\n",
       "      <td>RandomForest_pca: n_estimators:100, max_features:\"sqrt\", max_depth:7, random_state:2000</td>\n",
       "      <td>0.776884</td>\n",
       "      <td>0.011947</td>\n",
       "    </tr>\n",
       "    <tr>\n",
       "      <th>1</th>\n",
       "      <td>KNN_org: n_neighbors:187, weights:\"uniform\", distance:\"Manhattan\", others: default</td>\n",
       "      <td>0.771556</td>\n",
       "      <td>0.030728</td>\n",
       "    </tr>\n",
       "    <tr>\n",
       "      <th>2</th>\n",
       "      <td>KNN_ord: n_neighbors:187, weights:\"uniform\", distance:\"Manhattan\", others: default</td>\n",
       "      <td>0.764742</td>\n",
       "      <td>0.029103</td>\n",
       "    </tr>\n",
       "    <tr>\n",
       "      <th>4</th>\n",
       "      <td>KNN_pca: n_neighbors:187, weights:\"uniform\", distance:\"Manhattan\", others: default</td>\n",
       "      <td>0.758787</td>\n",
       "      <td>0.014006</td>\n",
       "    </tr>\n",
       "    <tr>\n",
       "      <th>3</th>\n",
       "      <td>KNN_dim_red: n_neighbors:187, weights:\"uniform\", distance:\"Manhattan\", others: default</td>\n",
       "      <td>0.757717</td>\n",
       "      <td>0.027173</td>\n",
       "    </tr>\n",
       "  </tbody>\n",
       "</table>\n",
       "</div>"
      ],
      "text/plain": [
       "                                                                                         Models  \\\n",
       "5      RandomForest_org: n_estimators:600, max_features:\"sqrt\", max_depth:14, random_state:2000   \n",
       "6      RandomForest_ord: n_estimators:700, max_features:\"sqrt\", max_depth:12, random_state:2000   \n",
       "7  RandomForest_dim_red: n_estimators:600, max_features:\"sqrt\", max_depth:14, random_state:2000   \n",
       "0                                                 KNN_baseline: n_neighbors:78, others: default   \n",
       "8       RandomForest_pca: n_estimators:100, max_features:\"sqrt\", max_depth:7, random_state:2000   \n",
       "1            KNN_org: n_neighbors:187, weights:\"uniform\", distance:\"Manhattan\", others: default   \n",
       "2            KNN_ord: n_neighbors:187, weights:\"uniform\", distance:\"Manhattan\", others: default   \n",
       "4            KNN_pca: n_neighbors:187, weights:\"uniform\", distance:\"Manhattan\", others: default   \n",
       "3        KNN_dim_red: n_neighbors:187, weights:\"uniform\", distance:\"Manhattan\", others: default   \n",
       "\n",
       "   Avg. Accuracies   Stdevs  \n",
       "5         0.854807 0.017710  \n",
       "6         0.854383 0.019626  \n",
       "7         0.841395 0.019807  \n",
       "0         0.783480 0.028243  \n",
       "8         0.776884 0.011947  \n",
       "1         0.771556 0.030728  \n",
       "2         0.764742 0.029103  \n",
       "4         0.758787 0.014006  \n",
       "3         0.757717 0.027173  "
      ]
     },
     "execution_count": 74,
     "metadata": {},
     "output_type": "execute_result"
    }
   ],
   "source": [
    "#np.transpose(accuracies_df)\n",
    "#stdevs_df\n",
    "results.sort_values(by=['Avg. Accuracies'], ascending = False)"
   ]
  },
  {
   "cell_type": "markdown",
   "metadata": {},
   "source": [
    "Did ordinal data cause statistically significant performance improvement/decline ?"
   ]
  },
  {
   "cell_type": "code",
   "execution_count": 75,
   "metadata": {},
   "outputs": [],
   "source": [
    "stat_test = []\n",
    "p1 = []"
   ]
  },
  {
   "cell_type": "code",
   "execution_count": 76,
   "metadata": {},
   "outputs": [
    {
     "name": "stdout",
     "output_type": "stream",
     "text": [
      "p-value:0.65002463\n",
      "Fail to reject null hypothesis - not significanly different\n"
     ]
    }
   ],
   "source": [
    "#Mann-Whitney U Test\n",
    "\n",
    "#H₀: The mean distribution of ordinal_data performances on KMeans is not statistically significantly different than that of original_data on KMeans \n",
    "#H₁: The mean distribution of ordinal_data performances on KMean is statistically significantly different than that of ordinal_data on KMeans\n",
    "\n",
    "#unpaired datasets, similar distribution \n",
    "\n",
    "ttest,pvalue = stats.mannwhitneyu(cv_results_knn_org, cv_results_knn_ord, alternative=\"two-sided\")\n",
    "\n",
    "print(\"p-value:%.8f\" % pvalue)\n",
    "if pvalue <0.05:\n",
    "    print(\"Reject null hypothesis\")\n",
    "else:\n",
    "    print(\"Fail to reject null hypothesis - not significanly different\")\n",
    "\n",
    "stat_test.append(\"KNN_original - KNN_ordinal\")\n",
    "p1.append(pvalue)"
   ]
  },
  {
   "cell_type": "code",
   "execution_count": 77,
   "metadata": {},
   "outputs": [
    {
     "name": "stdout",
     "output_type": "stream",
     "text": [
      "p-value:0.87969443\n",
      "Fail to reject null hypothesis - not significanly different\n"
     ]
    }
   ],
   "source": [
    "#Mann-Whitney U Test\n",
    "\n",
    "#H₀: The mean distribution of ordinal_data performances on RandomForest is not statistically significantly different than that of original_data on RandomForest\n",
    "#H₁: The mean distribution of ordinal_data performances on RandomForest is statistically significantly different than that of ordinal_data on RandomForest\n",
    "\n",
    "#unpaired datasets, similar distribution \n",
    "\n",
    "ttest,pvalue = stats.mannwhitneyu(cv_results_rf_org, cv_results_rf_ord, alternative=\"two-sided\")\n",
    "\n",
    "print(\"p-value:%.8f\" % pvalue)\n",
    "if pvalue <0.05:\n",
    "    print(\"Reject null hypothesis\")\n",
    "else:\n",
    "    print(\"Fail to reject null hypothesis - not significanly different\")\n",
    "        \n",
    "stat_test.append(\"RF_original - RF_ordinal\")\n",
    "p1.append(pvalue)"
   ]
  },
  {
   "cell_type": "code",
   "execution_count": 78,
   "metadata": {},
   "outputs": [
    {
     "name": "stdout",
     "output_type": "stream",
     "text": [
      "p-value:0.00021102\n",
      "Reject null hypothesis\n"
     ]
    }
   ],
   "source": [
    "#Mann-Whitney U Test\n",
    "\n",
    "#H₀: The mean distribution of original_data performances on KMeans is not statistically significantly different than that of original_data on RandomForest \n",
    "#H₁: The mean distribution of original_data performances on KMean is statistically significantly different than that of original_data on RandomForest\n",
    "\n",
    "#unpaired datasets, similar distribution \n",
    "\n",
    "ttest,pvalue = stats.mannwhitneyu(cv_results_knn_org, cv_results_rf_org, alternative=\"two-sided\")\n",
    "\n",
    "print(\"p-value:%.8f\" % pvalue)\n",
    "if pvalue <0.05:\n",
    "    print(\"Reject null hypothesis\")\n",
    "else:\n",
    "    print(\"Fail to reject null hypothesis - not significanly different\")\n",
    "        \n",
    "stat_test.append(\"KNN_original - RF_original\")\n",
    "p1.append(pvalue)"
   ]
  },
  {
   "cell_type": "code",
   "execution_count": 79,
   "metadata": {},
   "outputs": [
    {
     "name": "stdout",
     "output_type": "stream",
     "text": [
      "p-value:0.00018267\n",
      "Reject null hypothesis\n"
     ]
    }
   ],
   "source": [
    "#Mann-Whitney U Test\n",
    "\n",
    "#H₀: The mean distribution of original_data performances on KMeans is not statistically significantly different than that of original_data on RandomForest \n",
    "#H₁: The mean distribution of original_data performances on KMean is statistically significantly different than that of original_data on RandomForest\n",
    "\n",
    "#unpaired datasets, similar distribution \n",
    "\n",
    "ttest,pvalue = stats.mannwhitneyu(cv_results_knn_ord, cv_results_rf_ord, alternative=\"two-sided\")\n",
    "\n",
    "print(\"p-value:%.8f\" % pvalue)\n",
    "if pvalue <0.05:\n",
    "    print(\"Reject null hypothesis\")\n",
    "else:\n",
    "    print(\"Fail to reject null hypothesis - not significanly different\")\n",
    "        \n",
    "stat_test.append(\"KNN_ordinal - RF_ordinal\")\n",
    "p1.append(pvalue)"
   ]
  },
  {
   "cell_type": "code",
   "execution_count": 80,
   "metadata": {},
   "outputs": [
    {
     "name": "stdout",
     "output_type": "stream",
     "text": [
      "p-value:0.00025081\n",
      "Reject null hypothesis\n"
     ]
    }
   ],
   "source": [
    "# baseline - best performer model \n",
    "\n",
    "#Mann-Whitney U Test\n",
    "\n",
    "#H₀: The mean distribution of baseline model performance is not statistically significantly different than that of selected best performer winner\n",
    "#H₁: The mean distribution of original_data performances on KMean is statistically significantly different than that of original_data on RandomForest\n",
    "\n",
    "#unpaired datasets, similar distribution \n",
    "\n",
    "ttest,pvalue = stats.mannwhitneyu(cv_results_rf_ord, cv_results_baseline, alternative=\"greater\")\n",
    "\n",
    "print(\"p-value:%.8f\" % pvalue)\n",
    "if pvalue <0.05:\n",
    "    print(\"Reject null hypothesis\")\n",
    "else:\n",
    "    print(\"Fail to reject null hypothesis - not significanly different\")\n",
    "        \n",
    "stat_test.append(\"RF_ordinal - Baseline\")\n",
    "p1.append(pvalue)"
   ]
  },
  {
   "cell_type": "code",
   "execution_count": 81,
   "metadata": {},
   "outputs": [],
   "source": [
    "pd.options.display.float_format = '{:,.6f}'.format"
   ]
  },
  {
   "cell_type": "code",
   "execution_count": 82,
   "metadata": {},
   "outputs": [
    {
     "data": {
      "text/html": [
       "<div>\n",
       "<style scoped>\n",
       "    .dataframe tbody tr th:only-of-type {\n",
       "        vertical-align: middle;\n",
       "    }\n",
       "\n",
       "    .dataframe tbody tr th {\n",
       "        vertical-align: top;\n",
       "    }\n",
       "\n",
       "    .dataframe thead th {\n",
       "        text-align: right;\n",
       "    }\n",
       "</style>\n",
       "<table border=\"1\" class=\"dataframe\">\n",
       "  <thead>\n",
       "    <tr style=\"text-align: right;\">\n",
       "      <th></th>\n",
       "      <th>0</th>\n",
       "      <th>1</th>\n",
       "      <th>2</th>\n",
       "      <th>3</th>\n",
       "      <th>4</th>\n",
       "    </tr>\n",
       "  </thead>\n",
       "  <tbody>\n",
       "    <tr>\n",
       "      <th>0</th>\n",
       "      <td>KNN_original - KNN_ordinal</td>\n",
       "      <td>RF_original - RF_ordinal</td>\n",
       "      <td>KNN_original - RF_original</td>\n",
       "      <td>KNN_ordinal - RF_ordinal</td>\n",
       "      <td>RF_ordinal - Baseline</td>\n",
       "    </tr>\n",
       "    <tr>\n",
       "      <th>0</th>\n",
       "      <td>0.650025</td>\n",
       "      <td>0.879694</td>\n",
       "      <td>0.000211</td>\n",
       "      <td>0.000183</td>\n",
       "      <td>0.000251</td>\n",
       "    </tr>\n",
       "  </tbody>\n",
       "</table>\n",
       "</div>"
      ],
      "text/plain": [
       "                            0                         1  \\\n",
       "0  KNN_original - KNN_ordinal  RF_original - RF_ordinal   \n",
       "0                    0.650025                  0.879694   \n",
       "\n",
       "                            2                         3                      4  \n",
       "0  KNN_original - RF_original  KNN_ordinal - RF_ordinal  RF_ordinal - Baseline  \n",
       "0                    0.000211                  0.000183               0.000251  "
      ]
     },
     "execution_count": 82,
     "metadata": {},
     "output_type": "execute_result"
    }
   ],
   "source": [
    "stat_test = pd.DataFrame([stat_test])\n",
    "p1 = pd.DataFrame([p1])\n",
    "stat_test_results = pd.concat([stat_test, p1])\n",
    "stat_test_results.head()"
   ]
  }
 ],
 "metadata": {
  "kernelspec": {
   "display_name": "Python 3 (ipykernel)",
   "language": "python",
   "name": "python3"
  },
  "language_info": {
   "codemirror_mode": {
    "name": "ipython",
    "version": 3
   },
   "file_extension": ".py",
   "mimetype": "text/x-python",
   "name": "python",
   "nbconvert_exporter": "python",
   "pygments_lexer": "ipython3",
   "version": "3.9.13"
  },
  "vscode": {
   "interpreter": {
    "hash": "aee8b7b246df8f9039afb4144a1f6fd8d2ca17a180786b69acc140d282b71a49"
   }
  }
 },
 "nbformat": 4,
 "nbformat_minor": 2
}
